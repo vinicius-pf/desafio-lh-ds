{
 "cells": [
  {
   "cell_type": "markdown",
   "id": "44821832-2268-4b55-ad4e-ac4a008bd607",
   "metadata": {},
   "source": [
    "# Modelo de classificação do Titanic - EDA\n",
    "\n",
    "Nesse Jupyter Notebook se encontram as etapas e conclusões intermediárias do desafio de data science do programa Lighthouse da Indicium. Para isso, a base de dados foi disponibilizada via [Kaggle](https://www.kaggle.com/competitions/titanic/overview).\n",
    "\n",
    "Esse desafio consiste em analisar os dados a respeito dos passageiros do Titanic, navio que afundou em 1912, durante a sua viagem inaugural. Como haviam poucos barcos salva-vidas a bordo, 1502 pessoas faleceram, entre passageiros e tripulantes.\n",
    "\n",
    "Após a análise dos dados, será desenvolvido um modelo de machine learning capaz de prever se um passageiro sobreviveu ou não ao acidente."
   ]
  },
  {
   "cell_type": "markdown",
   "id": "c28bc35e-3cb4-4e22-b5c4-19d847d7257b",
   "metadata": {
    "tags": []
   },
   "source": [
    "## Importando os arquivos e analisando os dados"
   ]
  },
  {
   "cell_type": "markdown",
   "id": "95ef4805-1288-41d6-970e-c84b668ec5ec",
   "metadata": {},
   "source": [
    "Antes de iniciar o projeto, é necessário instalar algumas bibliotecas."
   ]
  },
  {
   "cell_type": "code",
   "execution_count": 3,
   "id": "528fe4fb-6295-4ec1-a907-0c95e06744d7",
   "metadata": {},
   "outputs": [
    {
     "name": "stdout",
     "output_type": "stream",
     "text": [
      "Requirement already satisfied: seaborn in c:\\users\\vinic\\desktop\\lighthouse\\desafio final ds\\desafio-lh-ds\\venv\\lib\\site-packages (0.12.2)\n",
      "Requirement already satisfied: numpy!=1.24.0,>=1.17 in c:\\users\\vinic\\desktop\\lighthouse\\desafio final ds\\desafio-lh-ds\\venv\\lib\\site-packages (from seaborn) (1.23.5)\n",
      "Requirement already satisfied: pandas>=0.25 in c:\\users\\vinic\\desktop\\lighthouse\\desafio final ds\\desafio-lh-ds\\venv\\lib\\site-packages (from seaborn) (1.5.3)\n",
      "Requirement already satisfied: matplotlib!=3.6.1,>=3.1 in c:\\users\\vinic\\desktop\\lighthouse\\desafio final ds\\desafio-lh-ds\\venv\\lib\\site-packages (from seaborn) (3.6.3)\n",
      "Requirement already satisfied: pyparsing>=2.2.1 in c:\\users\\vinic\\desktop\\lighthouse\\desafio final ds\\desafio-lh-ds\\venv\\lib\\site-packages (from matplotlib!=3.6.1,>=3.1->seaborn) (3.0.9)\n",
      "Requirement already satisfied: contourpy>=1.0.1 in c:\\users\\vinic\\desktop\\lighthouse\\desafio final ds\\desafio-lh-ds\\venv\\lib\\site-packages (from matplotlib!=3.6.1,>=3.1->seaborn) (1.0.7)\n",
      "Requirement already satisfied: packaging>=20.0 in c:\\users\\vinic\\desktop\\lighthouse\\desafio final ds\\desafio-lh-ds\\venv\\lib\\site-packages (from matplotlib!=3.6.1,>=3.1->seaborn) (23.0)\n",
      "Requirement already satisfied: kiwisolver>=1.0.1 in c:\\users\\vinic\\desktop\\lighthouse\\desafio final ds\\desafio-lh-ds\\venv\\lib\\site-packages (from matplotlib!=3.6.1,>=3.1->seaborn) (1.4.4)\n",
      "Requirement already satisfied: fonttools>=4.22.0 in c:\\users\\vinic\\desktop\\lighthouse\\desafio final ds\\desafio-lh-ds\\venv\\lib\\site-packages (from matplotlib!=3.6.1,>=3.1->seaborn) (4.38.0)\n",
      "Requirement already satisfied: python-dateutil>=2.7 in c:\\users\\vinic\\desktop\\lighthouse\\desafio final ds\\desafio-lh-ds\\venv\\lib\\site-packages (from matplotlib!=3.6.1,>=3.1->seaborn) (2.8.2)\n",
      "Requirement already satisfied: pillow>=6.2.0 in c:\\users\\vinic\\desktop\\lighthouse\\desafio final ds\\desafio-lh-ds\\venv\\lib\\site-packages (from matplotlib!=3.6.1,>=3.1->seaborn) (9.4.0)\n",
      "Requirement already satisfied: cycler>=0.10 in c:\\users\\vinic\\desktop\\lighthouse\\desafio final ds\\desafio-lh-ds\\venv\\lib\\site-packages (from matplotlib!=3.6.1,>=3.1->seaborn) (0.11.0)\n",
      "Requirement already satisfied: pytz>=2020.1 in c:\\users\\vinic\\desktop\\lighthouse\\desafio final ds\\desafio-lh-ds\\venv\\lib\\site-packages (from pandas>=0.25->seaborn) (2022.7.1)\n",
      "Requirement already satisfied: six>=1.5 in c:\\users\\vinic\\desktop\\lighthouse\\desafio final ds\\desafio-lh-ds\\venv\\lib\\site-packages (from python-dateutil>=2.7->matplotlib!=3.6.1,>=3.1->seaborn) (1.16.0)\n"
     ]
    }
   ],
   "source": [
    "!pip install seaborn"
   ]
  },
  {
   "cell_type": "code",
   "execution_count": 4,
   "id": "35ab72ea-7b7d-45d7-a18e-08500e650dd7",
   "metadata": {},
   "outputs": [
    {
     "name": "stdout",
     "output_type": "stream",
     "text": [
      "Requirement already satisfied: scikit-learn in c:\\users\\vinic\\desktop\\lighthouse\\desafio final ds\\desafio-lh-ds\\venv\\lib\\site-packages (1.2.1)\n",
      "Requirement already satisfied: threadpoolctl>=2.0.0 in c:\\users\\vinic\\desktop\\lighthouse\\desafio final ds\\desafio-lh-ds\\venv\\lib\\site-packages (from scikit-learn) (3.1.0)\n",
      "Requirement already satisfied: joblib>=1.1.1 in c:\\users\\vinic\\desktop\\lighthouse\\desafio final ds\\desafio-lh-ds\\venv\\lib\\site-packages (from scikit-learn) (1.2.0)\n",
      "Requirement already satisfied: numpy>=1.17.3 in c:\\users\\vinic\\desktop\\lighthouse\\desafio final ds\\desafio-lh-ds\\venv\\lib\\site-packages (from scikit-learn) (1.23.5)\n",
      "Requirement already satisfied: scipy>=1.3.2 in c:\\users\\vinic\\desktop\\lighthouse\\desafio final ds\\desafio-lh-ds\\venv\\lib\\site-packages (from scikit-learn) (1.9.3)\n"
     ]
    }
   ],
   "source": [
    "!pip install -U scikit-learn"
   ]
  },
  {
   "cell_type": "code",
   "execution_count": 5,
   "id": "afe0cfec-0ca2-45f8-9713-94f149ca3e37",
   "metadata": {},
   "outputs": [
    {
     "name": "stdout",
     "output_type": "stream",
     "text": [
      "Requirement already satisfied: xgboost in c:\\users\\vinic\\desktop\\lighthouse\\desafio final ds\\desafio-lh-ds\\venv\\lib\\site-packages (1.7.4)\n",
      "Requirement already satisfied: scipy in c:\\users\\vinic\\desktop\\lighthouse\\desafio final ds\\desafio-lh-ds\\venv\\lib\\site-packages (from xgboost) (1.9.3)\n",
      "Requirement already satisfied: numpy in c:\\users\\vinic\\desktop\\lighthouse\\desafio final ds\\desafio-lh-ds\\venv\\lib\\site-packages (from xgboost) (1.23.5)\n"
     ]
    }
   ],
   "source": [
    "!pip install xgboost"
   ]
  },
  {
   "cell_type": "markdown",
   "id": "05298a8f-0968-4bf8-a16d-4a553cd27c8e",
   "metadata": {},
   "source": [
    "Com as bibliotecas instaladas, é possível importar os dados de treino para que eles sejam analisados e preparados para o modelo de machine learning."
   ]
  },
  {
   "cell_type": "code",
   "execution_count": 6,
   "id": "10fa7084-fa42-4e69-b6ab-a0bdd269ee5b",
   "metadata": {},
   "outputs": [],
   "source": [
    "import pandas as pd"
   ]
  },
  {
   "cell_type": "code",
   "execution_count": 7,
   "id": "cdc48ec1-a512-45a5-8863-b834dc51ea94",
   "metadata": {},
   "outputs": [
    {
     "data": {
      "text/html": [
       "<pre style=\"white-space:pre;overflow-x:auto;line-height:normal;font-family:Menlo,'DejaVu Sans Mono',consolas,'Courier New',monospace\"><span style=\"font-weight: bold\">[</span><span style=\"color: #008000; text-decoration-color: #008000\">'training_dataset'</span>, <span style=\"color: #008000; text-decoration-color: #008000\">'test_dataset'</span>, <span style=\"color: #008000; text-decoration-color: #008000\">'parameters'</span><span style=\"font-weight: bold\">]</span>\n",
       "</pre>\n"
      ],
      "text/plain": [
       "\u001b[1m[\u001b[0m\u001b[32m'training_dataset'\u001b[0m, \u001b[32m'test_dataset'\u001b[0m, \u001b[32m'parameters'\u001b[0m\u001b[1m]\u001b[0m\n"
      ]
     },
     "metadata": {},
     "output_type": "display_data"
    }
   ],
   "source": [
    "catalog.list()"
   ]
  },
  {
   "cell_type": "code",
   "execution_count": 8,
   "id": "3d69cfc9-25ee-43f7-9577-b33c4da3e87b",
   "metadata": {},
   "outputs": [
    {
     "data": {
      "text/html": [
       "<pre style=\"white-space:pre;overflow-x:auto;line-height:normal;font-family:Menlo,'DejaVu Sans Mono',consolas,'Courier New',monospace\"><span style=\"color: #7fbfbf; text-decoration-color: #7fbfbf\">[02/22/23 20:10:57] </span><span style=\"color: #000080; text-decoration-color: #000080\">INFO    </span> Loading data from <span style=\"color: #008000; text-decoration-color: #008000\">'training_dataset'</span> <span style=\"font-weight: bold\">(</span>CSVDataSet<span style=\"font-weight: bold\">)</span><span style=\"color: #808000; text-decoration-color: #808000\">...</span>               <span style=\"color: #7f7f7f; text-decoration-color: #7f7f7f\">data_catalog.py:343</span>\n",
       "</pre>\n"
      ],
      "text/plain": [
       "\u001b[2;36m[02/22/23 20:10:57]\u001b[0m\u001b[2;36m \u001b[0m\u001b[34mINFO    \u001b[0m Loading data from \u001b[32m'training_dataset'\u001b[0m \u001b[1m(\u001b[0mCSVDataSet\u001b[1m)\u001b[0m\u001b[33m...\u001b[0m               \u001b[2mdata_catalog.py\u001b[0m\u001b[2m:\u001b[0m\u001b[2m343\u001b[0m\n"
      ]
     },
     "metadata": {},
     "output_type": "display_data"
    }
   ],
   "source": [
    "df = catalog.load('training_dataset')"
   ]
  },
  {
   "cell_type": "code",
   "execution_count": 9,
   "id": "a7ffcd39-298e-4b2a-95fe-188c0f18211c",
   "metadata": {},
   "outputs": [
    {
     "data": {
      "text/html": [
       "<div>\n",
       "<style scoped>\n",
       "    .dataframe tbody tr th:only-of-type {\n",
       "        vertical-align: middle;\n",
       "    }\n",
       "\n",
       "    .dataframe tbody tr th {\n",
       "        vertical-align: top;\n",
       "    }\n",
       "\n",
       "    .dataframe thead th {\n",
       "        text-align: right;\n",
       "    }\n",
       "</style>\n",
       "<table border=\"1\" class=\"dataframe\">\n",
       "  <thead>\n",
       "    <tr style=\"text-align: right;\">\n",
       "      <th></th>\n",
       "      <th>PassengerId</th>\n",
       "      <th>Survived</th>\n",
       "      <th>Pclass</th>\n",
       "      <th>Name</th>\n",
       "      <th>Sex</th>\n",
       "      <th>Age</th>\n",
       "      <th>SibSp</th>\n",
       "      <th>Parch</th>\n",
       "      <th>Ticket</th>\n",
       "      <th>Fare</th>\n",
       "      <th>Cabin</th>\n",
       "      <th>Embarked</th>\n",
       "    </tr>\n",
       "  </thead>\n",
       "  <tbody>\n",
       "    <tr>\n",
       "      <th>0</th>\n",
       "      <td>1</td>\n",
       "      <td>0</td>\n",
       "      <td>3</td>\n",
       "      <td>Braund, Mr. Owen Harris</td>\n",
       "      <td>male</td>\n",
       "      <td>22.0</td>\n",
       "      <td>1</td>\n",
       "      <td>0</td>\n",
       "      <td>A/5 21171</td>\n",
       "      <td>7.2500</td>\n",
       "      <td>NaN</td>\n",
       "      <td>S</td>\n",
       "    </tr>\n",
       "    <tr>\n",
       "      <th>1</th>\n",
       "      <td>2</td>\n",
       "      <td>1</td>\n",
       "      <td>1</td>\n",
       "      <td>Cumings, Mrs. John Bradley (Florence Briggs Th...</td>\n",
       "      <td>female</td>\n",
       "      <td>38.0</td>\n",
       "      <td>1</td>\n",
       "      <td>0</td>\n",
       "      <td>PC 17599</td>\n",
       "      <td>71.2833</td>\n",
       "      <td>C85</td>\n",
       "      <td>C</td>\n",
       "    </tr>\n",
       "    <tr>\n",
       "      <th>2</th>\n",
       "      <td>3</td>\n",
       "      <td>1</td>\n",
       "      <td>3</td>\n",
       "      <td>Heikkinen, Miss. Laina</td>\n",
       "      <td>female</td>\n",
       "      <td>26.0</td>\n",
       "      <td>0</td>\n",
       "      <td>0</td>\n",
       "      <td>STON/O2. 3101282</td>\n",
       "      <td>7.9250</td>\n",
       "      <td>NaN</td>\n",
       "      <td>S</td>\n",
       "    </tr>\n",
       "    <tr>\n",
       "      <th>3</th>\n",
       "      <td>4</td>\n",
       "      <td>1</td>\n",
       "      <td>1</td>\n",
       "      <td>Futrelle, Mrs. Jacques Heath (Lily May Peel)</td>\n",
       "      <td>female</td>\n",
       "      <td>35.0</td>\n",
       "      <td>1</td>\n",
       "      <td>0</td>\n",
       "      <td>113803</td>\n",
       "      <td>53.1000</td>\n",
       "      <td>C123</td>\n",
       "      <td>S</td>\n",
       "    </tr>\n",
       "    <tr>\n",
       "      <th>4</th>\n",
       "      <td>5</td>\n",
       "      <td>0</td>\n",
       "      <td>3</td>\n",
       "      <td>Allen, Mr. William Henry</td>\n",
       "      <td>male</td>\n",
       "      <td>35.0</td>\n",
       "      <td>0</td>\n",
       "      <td>0</td>\n",
       "      <td>373450</td>\n",
       "      <td>8.0500</td>\n",
       "      <td>NaN</td>\n",
       "      <td>S</td>\n",
       "    </tr>\n",
       "  </tbody>\n",
       "</table>\n",
       "</div>"
      ]
     },
     "execution_count": 9,
     "metadata": {},
     "output_type": "execute_result"
    }
   ],
   "source": [
    "df.head()"
   ]
  },
  {
   "cell_type": "markdown",
   "id": "f115dd56-f338-4efc-9e28-50bc30e6ab41",
   "metadata": {},
   "source": [
    "Os dados foram importados com sucesso. Com o método `head()` é possível ver que em alumas colunas há valores nulos que precisam ser analisados com cuidado. Para entender melhor as informações de cada coluna e quais colunas possuem valores nulos, pode-se usar o método `info()`"
   ]
  },
  {
   "cell_type": "code",
   "execution_count": 10,
   "id": "c3a53fb3-c7a7-4de0-a3bd-3461a770d9c9",
   "metadata": {},
   "outputs": [
    {
     "name": "stdout",
     "output_type": "stream",
     "text": [
      "<class 'pandas.core.frame.DataFrame'>\n",
      "RangeIndex: 891 entries, 0 to 890\n",
      "Data columns (total 12 columns):\n",
      " #   Column       Non-Null Count  Dtype  \n",
      "---  ------       --------------  -----  \n",
      " 0   PassengerId  891 non-null    int64  \n",
      " 1   Survived     891 non-null    int64  \n",
      " 2   Pclass       891 non-null    int64  \n",
      " 3   Name         891 non-null    object \n",
      " 4   Sex          891 non-null    object \n",
      " 5   Age          714 non-null    float64\n",
      " 6   SibSp        891 non-null    int64  \n",
      " 7   Parch        891 non-null    int64  \n",
      " 8   Ticket       891 non-null    object \n",
      " 9   Fare         891 non-null    float64\n",
      " 10  Cabin        204 non-null    object \n",
      " 11  Embarked     889 non-null    object \n",
      "dtypes: float64(2), int64(5), object(5)\n",
      "memory usage: 83.7+ KB\n"
     ]
    }
   ],
   "source": [
    "df.info()"
   ]
  },
  {
   "cell_type": "markdown",
   "id": "cdef1339-df33-4e3b-987c-06c1498793fe",
   "metadata": {},
   "source": [
    "Para a análise inicial, podemos cruzar as informações já vistas com o dicionário que foi disponibilizado junto com os dados:\n",
    "    \n",
    "Variável|Definição|Key\n",
    "--------|----------|---\n",
    "survival|Indica se o passageiro sobreviveu|0 = Não, 1 = Sim\n",
    "pclass|Classe do passageiro|1 = Primeira, 2 = Segunda, 3 = Terceira\n",
    "sex|Genero|\n",
    "Age|Idade em anos|\n",
    "sibsp|número de parentes/cônjuges a bordo do Titanic|\n",
    "parch|numero de pais/filhos a bordo do Titanic|\n",
    "ticket|Número do ticket|\n",
    "fare|Valor pago pelo passageiro|\n",
    "cabin|Número da cabine|\n",
    "embarked|Porto de embarque|C = Cherbourg, Q = Queenstown, S = Southampton  "
   ]
  },
  {
   "cell_type": "markdown",
   "id": "afdcd163-3e64-43d0-a0b3-05dde1d827bd",
   "metadata": {},
   "source": [
    "Após a aplicação dos métodos, em conjunto com as descrições encontradas no dicionário de dados, é possível afirmar que:\n",
    "\n",
    "1 - As variáveis `Age`, `Cabin` e `Embarked` possuem informações nulas. Essa colunas deverão ser analizadas mais profundamente para entender o motivo.\n",
    "\n",
    "2 - A variável `PassengerId` contém informações únicas para todas as linhas e não será útil em análises, por isso ela será removida do DataFrame. A *feature* `Ticket` também parece conter informações únicas e será analisada mais a fundo.\n",
    "\n",
    "3 - As colunas `SibSp` e `Parch` contém informações sobre a quantidade de familiares. Análises posteriores serão efetuadas para a possibilidade de união das duas colunas.\n",
    "\n",
    "4 - A variável `Name` possui, além do nome, informações a respeito de títulos de cada passageiro. Essa variável será analizada para entender se o título poderá ser utilizado como uma feature nova.\n",
    "\n",
    "5 - Há variáveis numéricas discretas e variáveis categóricas. As variáveis categóricas deverão ser tratadas durante a etapa de *feature engeneering*."
   ]
  },
  {
   "cell_type": "markdown",
   "id": "bb56cde9-2956-4c4f-b72f-e6d5f1b12999",
   "metadata": {},
   "source": [
    "## Entendendo as colunas"
   ]
  },
  {
   "cell_type": "markdown",
   "id": "32395a2b-b7af-4d95-a781-4272177bc4ac",
   "metadata": {},
   "source": [
    "### `PassengerId`, `Ticket` e `Cabin`"
   ]
  },
  {
   "cell_type": "markdown",
   "id": "130571ce-7e54-4e65-a11b-1af79991d913",
   "metadata": {},
   "source": [
    "Primeiro vamos remover a coluna `PassengerId`, que não será aproveitada:"
   ]
  },
  {
   "cell_type": "code",
   "execution_count": 11,
   "id": "5612f050-c99f-40d5-ab48-7472dbdf4337",
   "metadata": {},
   "outputs": [],
   "source": [
    "df = df.drop(columns = 'PassengerId')"
   ]
  },
  {
   "cell_type": "markdown",
   "id": "be82e3ce-4129-4673-a35f-c411237596f0",
   "metadata": {},
   "source": [
    "Podemos também analisar a coluna `Ticket`:"
   ]
  },
  {
   "cell_type": "code",
   "execution_count": 12,
   "id": "b447cef7-a3ae-4882-9136-3e3cf9e87a1b",
   "metadata": {},
   "outputs": [
    {
     "data": {
      "text/html": [
       "<pre style=\"white-space:pre;overflow-x:auto;line-height:normal;font-family:Menlo,'DejaVu Sans Mono',consolas,'Courier New',monospace\">\n",
       "<span style=\"color: #008080; text-decoration-color: #008080; font-weight: bold\">347082</span>      <span style=\"color: #008080; text-decoration-color: #008080; font-weight: bold\">7</span>\n",
       "CA. <span style=\"color: #008080; text-decoration-color: #008080; font-weight: bold\">2343</span>    <span style=\"color: #008080; text-decoration-color: #008080; font-weight: bold\">7</span>\n",
       "<span style=\"color: #008080; text-decoration-color: #008080; font-weight: bold\">1601</span>        <span style=\"color: #008080; text-decoration-color: #008080; font-weight: bold\">7</span>\n",
       "<span style=\"color: #008080; text-decoration-color: #008080; font-weight: bold\">3101295</span>     <span style=\"color: #008080; text-decoration-color: #008080; font-weight: bold\">6</span>\n",
       "CA <span style=\"color: #008080; text-decoration-color: #008080; font-weight: bold\">2144</span>     <span style=\"color: #008080; text-decoration-color: #008080; font-weight: bold\">6</span>\n",
       "           ..\n",
       "<span style=\"color: #008080; text-decoration-color: #008080; font-weight: bold\">9234</span>        <span style=\"color: #008080; text-decoration-color: #008080; font-weight: bold\">1</span>\n",
       "<span style=\"color: #008080; text-decoration-color: #008080; font-weight: bold\">19988</span>       <span style=\"color: #008080; text-decoration-color: #008080; font-weight: bold\">1</span>\n",
       "<span style=\"color: #008080; text-decoration-color: #008080; font-weight: bold\">2693</span>        <span style=\"color: #008080; text-decoration-color: #008080; font-weight: bold\">1</span>\n",
       "PC <span style=\"color: #008080; text-decoration-color: #008080; font-weight: bold\">17612</span>    <span style=\"color: #008080; text-decoration-color: #008080; font-weight: bold\">1</span>\n",
       "<span style=\"color: #008080; text-decoration-color: #008080; font-weight: bold\">370376</span>      <span style=\"color: #008080; text-decoration-color: #008080; font-weight: bold\">1</span>\n",
       "Name: Ticket, Length: <span style=\"color: #008080; text-decoration-color: #008080; font-weight: bold\">681</span>, dtype: int64\n",
       "</pre>\n"
      ],
      "text/plain": [
       "\n",
       "\u001b[1;36m347082\u001b[0m      \u001b[1;36m7\u001b[0m\n",
       "CA. \u001b[1;36m2343\u001b[0m    \u001b[1;36m7\u001b[0m\n",
       "\u001b[1;36m1601\u001b[0m        \u001b[1;36m7\u001b[0m\n",
       "\u001b[1;36m3101295\u001b[0m     \u001b[1;36m6\u001b[0m\n",
       "CA \u001b[1;36m2144\u001b[0m     \u001b[1;36m6\u001b[0m\n",
       "           ..\n",
       "\u001b[1;36m9234\u001b[0m        \u001b[1;36m1\u001b[0m\n",
       "\u001b[1;36m19988\u001b[0m       \u001b[1;36m1\u001b[0m\n",
       "\u001b[1;36m2693\u001b[0m        \u001b[1;36m1\u001b[0m\n",
       "PC \u001b[1;36m17612\u001b[0m    \u001b[1;36m1\u001b[0m\n",
       "\u001b[1;36m370376\u001b[0m      \u001b[1;36m1\u001b[0m\n",
       "Name: Ticket, Length: \u001b[1;36m681\u001b[0m, dtype: int64\n"
      ]
     },
     "metadata": {},
     "output_type": "display_data"
    }
   ],
   "source": [
    "df['Ticket'].value_counts()"
   ]
  },
  {
   "cell_type": "markdown",
   "id": "b4ec75ec-e178-4e3a-b68f-cdad7ae5a3ca",
   "metadata": {},
   "source": [
    "A coluna possui valores repetidos, mostrando que alguns tickets serviram para múltiplos passageiros. Porém, ainda há um grande número de tickets únicos, por isso a coluna também será excluída."
   ]
  },
  {
   "cell_type": "code",
   "execution_count": 13,
   "id": "9c5a174b-e0b7-4f65-b42b-6d19028180b8",
   "metadata": {},
   "outputs": [],
   "source": [
    "df = df.drop(columns = 'Ticket')"
   ]
  },
  {
   "cell_type": "markdown",
   "id": "c48d2794-3eec-45d9-a6b0-bf5325963652",
   "metadata": {},
   "source": [
    "Outra coluna que pode ser analisada para remoção é a coluna `Cabin`. Após a analise do método `info()`, foi percebido que ela possui mais valores nulos que informações sobre as cabines."
   ]
  },
  {
   "cell_type": "code",
   "execution_count": 14,
   "id": "4c29e055-6385-4a61-bf1e-65646b9de0a9",
   "metadata": {},
   "outputs": [
    {
     "data": {
      "text/html": [
       "<pre style=\"white-space:pre;overflow-x:auto;line-height:normal;font-family:Menlo,'DejaVu Sans Mono',consolas,'Courier New',monospace\">\n",
       "<span style=\"color: #00ff00; text-decoration-color: #00ff00; font-style: italic\">True</span>     <span style=\"color: #008080; text-decoration-color: #008080; font-weight: bold\">687</span>\n",
       "<span style=\"color: #ff0000; text-decoration-color: #ff0000; font-style: italic\">False</span>    <span style=\"color: #008080; text-decoration-color: #008080; font-weight: bold\">204</span>\n",
       "Name: Cabin, dtype: int64\n",
       "</pre>\n"
      ],
      "text/plain": [
       "\n",
       "\u001b[3;92mTrue\u001b[0m     \u001b[1;36m687\u001b[0m\n",
       "\u001b[3;91mFalse\u001b[0m    \u001b[1;36m204\u001b[0m\n",
       "Name: Cabin, dtype: int64\n"
      ]
     },
     "metadata": {},
     "output_type": "display_data"
    }
   ],
   "source": [
    "df['Cabin'].isnull().value_counts()"
   ]
  },
  {
   "cell_type": "markdown",
   "id": "fbbcfbda-4fcd-4e77-b5f5-1af9fc26e174",
   "metadata": {},
   "source": [
    "Realmente há mais valores nulos que informações sobre as cabines. Como as informações faltantes não parecem ser inferidas, essa coluna será removida."
   ]
  },
  {
   "cell_type": "code",
   "execution_count": 15,
   "id": "cb1517d3-b47e-4ca8-a381-4ce348244aae",
   "metadata": {},
   "outputs": [],
   "source": [
    "df = df.drop(columns = 'Cabin')"
   ]
  },
  {
   "cell_type": "markdown",
   "id": "37e560ad-ac4d-4a1d-81d7-3f9f6dbc1dca",
   "metadata": {},
   "source": [
    "Após a remoção dessas colunas indejesadas, é possível analisar as outras colunas presentes no dataset"
   ]
  },
  {
   "cell_type": "markdown",
   "id": "3bcad884-6baa-4edf-91ea-57a1ac1ffefa",
   "metadata": {},
   "source": [
    "### Colunas `Age` e `Embarked`"
   ]
  },
  {
   "cell_type": "markdown",
   "id": "79c11406-c0e7-4581-a159-deb6b24648a3",
   "metadata": {},
   "source": [
    "Primeiramente vamos olhar para a coluna `Embarked`, que sinaliza o porto de embarque de cada passageiro."
   ]
  },
  {
   "cell_type": "code",
   "execution_count": 16,
   "id": "fcbec476-7115-4d9c-a71a-09e3980b3aa5",
   "metadata": {},
   "outputs": [
    {
     "data": {
      "text/html": [
       "<pre style=\"white-space:pre;overflow-x:auto;line-height:normal;font-family:Menlo,'DejaVu Sans Mono',consolas,'Courier New',monospace\">\n",
       "S    <span style=\"color: #008080; text-decoration-color: #008080; font-weight: bold\">644</span>\n",
       "C    <span style=\"color: #008080; text-decoration-color: #008080; font-weight: bold\">168</span>\n",
       "Q     <span style=\"color: #008080; text-decoration-color: #008080; font-weight: bold\">77</span>\n",
       "Name: Embarked, dtype: int64\n",
       "</pre>\n"
      ],
      "text/plain": [
       "\n",
       "S    \u001b[1;36m644\u001b[0m\n",
       "C    \u001b[1;36m168\u001b[0m\n",
       "Q     \u001b[1;36m77\u001b[0m\n",
       "Name: Embarked, dtype: int64\n"
      ]
     },
     "metadata": {},
     "output_type": "display_data"
    }
   ],
   "source": [
    "df['Embarked'].value_counts()"
   ]
  },
  {
   "cell_type": "markdown",
   "id": "77e9a615-17fe-47d3-8110-b0d9bb1dcb99",
   "metadata": {},
   "source": [
    "Na análise com o método `info()`, foram descobertos valores nulos. Vamos pegar apenas esses registros e verificar:"
   ]
  },
  {
   "cell_type": "code",
   "execution_count": 17,
   "id": "280f33f8-7619-41aa-81a0-f985ab31abd5",
   "metadata": {},
   "outputs": [
    {
     "data": {
      "text/html": [
       "<div>\n",
       "<style scoped>\n",
       "    .dataframe tbody tr th:only-of-type {\n",
       "        vertical-align: middle;\n",
       "    }\n",
       "\n",
       "    .dataframe tbody tr th {\n",
       "        vertical-align: top;\n",
       "    }\n",
       "\n",
       "    .dataframe thead th {\n",
       "        text-align: right;\n",
       "    }\n",
       "</style>\n",
       "<table border=\"1\" class=\"dataframe\">\n",
       "  <thead>\n",
       "    <tr style=\"text-align: right;\">\n",
       "      <th></th>\n",
       "      <th>Survived</th>\n",
       "      <th>Pclass</th>\n",
       "      <th>Name</th>\n",
       "      <th>Sex</th>\n",
       "      <th>Age</th>\n",
       "      <th>SibSp</th>\n",
       "      <th>Parch</th>\n",
       "      <th>Fare</th>\n",
       "      <th>Embarked</th>\n",
       "    </tr>\n",
       "  </thead>\n",
       "  <tbody>\n",
       "    <tr>\n",
       "      <th>61</th>\n",
       "      <td>1</td>\n",
       "      <td>1</td>\n",
       "      <td>Icard, Miss. Amelie</td>\n",
       "      <td>female</td>\n",
       "      <td>38.0</td>\n",
       "      <td>0</td>\n",
       "      <td>0</td>\n",
       "      <td>80.0</td>\n",
       "      <td>NaN</td>\n",
       "    </tr>\n",
       "    <tr>\n",
       "      <th>829</th>\n",
       "      <td>1</td>\n",
       "      <td>1</td>\n",
       "      <td>Stone, Mrs. George Nelson (Martha Evelyn)</td>\n",
       "      <td>female</td>\n",
       "      <td>62.0</td>\n",
       "      <td>0</td>\n",
       "      <td>0</td>\n",
       "      <td>80.0</td>\n",
       "      <td>NaN</td>\n",
       "    </tr>\n",
       "  </tbody>\n",
       "</table>\n",
       "</div>"
      ]
     },
     "execution_count": 17,
     "metadata": {},
     "output_type": "execute_result"
    }
   ],
   "source": [
    "df[df.Embarked.isnull()]"
   ]
  },
  {
   "cell_type": "markdown",
   "id": "f76a7806-27f6-4a71-a716-9731c9a97d15",
   "metadata": {},
   "source": [
    "Podemos verificar como é a distribuição de sobreviventes entre portos, para saber se há a necessidade de manter essa coluna."
   ]
  },
  {
   "cell_type": "code",
   "execution_count": 18,
   "id": "f9831519-5234-4a07-9adf-ae79a521a7ea",
   "metadata": {},
   "outputs": [
    {
     "data": {
      "image/png": "[encoded data removed]"
     },
     "metadata": {},
     "output_type": "display_data"
    }
   ],
   "source": [
    "import matplotlib.pyplot as plt\n",
    "import seaborn as sns\n",
    "\n",
    "\n",
    "sns.countplot(data = df, x = 'Embarked', hue = 'Survived')"
   ]
  },
  {
   "cell_type": "markdown",
   "id": "729d5b04-5834-4bdf-9f3a-decd7c9cc9ae",
   "metadata": {},
   "source": [
    "Como a coluna apresenta uma distribuição diferente para cada porto, é interessante manter essa coluna para análises futuras. As linhas que possuem valores nulos serão removidas das análises futuras."
   ]
  },
  {
   "cell_type": "code",
   "execution_count": 20,
   "id": "b1841268-2423-4a32-ae1a-56c98f8199f0",
   "metadata": {},
   "outputs": [
    {
     "name": "stdout",
     "output_type": "stream",
     "text": [
      "<class 'pandas.core.frame.DataFrame'>\n",
      "Int64Index: 889 entries, 0 to 890\n",
      "Data columns (total 9 columns):\n",
      " #   Column    Non-Null Count  Dtype  \n",
      "---  ------    --------------  -----  \n",
      " 0   Survived  889 non-null    int64  \n",
      " 1   Pclass    889 non-null    int64  \n",
      " 2   Name      889 non-null    object \n",
      " 3   Sex       889 non-null    object \n",
      " 4   Age       712 non-null    float64\n",
      " 5   SibSp     889 non-null    int64  \n",
      " 6   Parch     889 non-null    int64  \n",
      " 7   Fare      889 non-null    float64\n",
      " 8   Embarked  889 non-null    object \n",
      "dtypes: float64(2), int64(4), object(3)\n",
      "memory usage: 69.5+ KB\n"
     ]
    }
   ],
   "source": [
    "df = df[df.Embarked.notnull()]"
   ]
  },
  {
   "cell_type": "markdown",
   "id": "128b9877-102e-412a-90b7-ab59cca65f6d",
   "metadata": {},
   "source": [
    "Com as linhas removidas, podemos analisar a coluna `Age`, que também possui valores nulos."
   ]
  },
  {
   "cell_type": "code",
   "execution_count": 21,
   "id": "f7838bd7-baae-4cf8-8fd6-e261adf527db",
   "metadata": {},
   "outputs": [
    {
     "data": {
      "image/png": "[encoded data removed]"
     },
     "metadata": {},
     "output_type": "display_data"
    }
   ],
   "source": [
    "import matplotlib.pyplot as plt\n",
    "import seaborn as sns\n",
    "\n",
    "\n",
    "sns.boxplot(data = df, y = 'Age', x = 'Survived')"
   ]
  },
  {
   "cell_type": "markdown",
   "id": "90fda616-0f66-4765-a3f4-4c96e1e0aac5",
   "metadata": {},
   "source": [
    "Analisando o gráfico se percebe uma pequena diferença entre as distribuições das idades de quem sobreviveu ou não. Essa diferença, no entanto, não parece ser acentuada. Os valores faltantes na coluna serão substituídos pela média de idade do grupo que a pessoa pertence: se sobreviveu ou não."
   ]
  },
  {
   "cell_type": "code",
   "execution_count": 22,
   "id": "ea0e400f-d93c-4a8b-adbe-32c10aa840ad",
   "metadata": {},
   "outputs": [],
   "source": [
    "## botando a média de idade\n",
    "\n",
    "sobreviveram = df.query('Survived == 1')\n",
    "nao_sobreviveram = df.query('Survived == 0')"
   ]
  },
  {
   "cell_type": "code",
   "execution_count": 23,
   "id": "89800b42-d54e-457f-ba9e-b064ff34a014",
   "metadata": {},
   "outputs": [
    {
     "data": {
      "text/html": [
       "<pre style=\"white-space:pre;overflow-x:auto;line-height:normal;font-family:Menlo,'DejaVu Sans Mono',consolas,'Courier New',monospace\"><span style=\"color: #7fbfbf; text-decoration-color: #7fbfbf\">[02/22/23 20:13:25] </span><span style=\"color: #800000; text-decoration-color: #800000\">WARNING </span> C:\\Users\\vinic\\AppData\\Local\\Temp\\ipykernel_5200\\<span style=\"color: #008080; text-decoration-color: #008080; font-weight: bold\">3010192157.</span>py:<span style=\"color: #008080; text-decoration-color: #008080; font-weight: bold\">2</span>:      <span style=\"color: #7f7f7f; text-decoration-color: #7f7f7f\">warnings.py:109</span>\n",
       "<span style=\"color: #7fbfbf; text-decoration-color: #7fbfbf\">                    </span>         SettingWithCopyWarning:                                                <span style=\"color: #7f7f7f; text-decoration-color: #7f7f7f\">               </span>\n",
       "<span style=\"color: #7fbfbf; text-decoration-color: #7fbfbf\">                    </span>         A value is trying to be set on a copy of a slice from a DataFrame      <span style=\"color: #7f7f7f; text-decoration-color: #7f7f7f\">               </span>\n",
       "<span style=\"color: #7fbfbf; text-decoration-color: #7fbfbf\">                    </span>                                                                                <span style=\"color: #7f7f7f; text-decoration-color: #7f7f7f\">               </span>\n",
       "<span style=\"color: #7fbfbf; text-decoration-color: #7fbfbf\">                    </span>         See the caveats in the documentation:                                  <span style=\"color: #7f7f7f; text-decoration-color: #7f7f7f\">               </span>\n",
       "<span style=\"color: #7fbfbf; text-decoration-color: #7fbfbf\">                    </span>         <span style=\"color: #0000ff; text-decoration-color: #0000ff; text-decoration: underline\">https://pandas.pydata.org/pandas-docs/stable/user_guide/indexing.html#</span> <span style=\"color: #7f7f7f; text-decoration-color: #7f7f7f\">               </span>\n",
       "<span style=\"color: #7fbfbf; text-decoration-color: #7fbfbf\">                    </span>         <span style=\"color: #0000ff; text-decoration-color: #0000ff; text-decoration: underline\">returning-a-view-versus-a-copy</span>                                         <span style=\"color: #7f7f7f; text-decoration-color: #7f7f7f\">               </span>\n",
       "<span style=\"color: #7fbfbf; text-decoration-color: #7fbfbf\">                    </span>           sobreviveram<span style=\"font-weight: bold\">[</span><span style=\"color: #008000; text-decoration-color: #008000\">'Age'</span><span style=\"font-weight: bold\">]</span><span style=\"color: #800080; text-decoration-color: #800080; font-weight: bold\">.fillna</span><span style=\"font-weight: bold\">(</span>value = media_sobreviveram, inplace =     <span style=\"color: #7f7f7f; text-decoration-color: #7f7f7f\">               </span>\n",
       "<span style=\"color: #7fbfbf; text-decoration-color: #7fbfbf\">                    </span>         <span style=\"color: #00ff00; text-decoration-color: #00ff00; font-style: italic\">True</span><span style=\"font-weight: bold\">)</span>                                                                  <span style=\"color: #7f7f7f; text-decoration-color: #7f7f7f\">               </span>\n",
       "<span style=\"color: #7fbfbf; text-decoration-color: #7fbfbf\">                    </span>                                                                                <span style=\"color: #7f7f7f; text-decoration-color: #7f7f7f\">               </span>\n",
       "</pre>\n"
      ],
      "text/plain": [
       "\u001b[2;36m[02/22/23 20:13:25]\u001b[0m\u001b[2;36m \u001b[0m\u001b[31mWARNING \u001b[0m C:\\Users\\vinic\\AppData\\Local\\Temp\\ipykernel_5200\\\u001b[1;36m3010192157.\u001b[0mpy:\u001b[1;36m2\u001b[0m:      \u001b[2mwarnings.py\u001b[0m\u001b[2m:\u001b[0m\u001b[2m109\u001b[0m\n",
       "\u001b[2;36m                    \u001b[0m         SettingWithCopyWarning:                                                \u001b[2m               \u001b[0m\n",
       "\u001b[2;36m                    \u001b[0m         A value is trying to be set on a copy of a slice from a DataFrame      \u001b[2m               \u001b[0m\n",
       "\u001b[2;36m                    \u001b[0m                                                                                \u001b[2m               \u001b[0m\n",
       "\u001b[2;36m                    \u001b[0m         See the caveats in the documentation:                                  \u001b[2m               \u001b[0m\n",
       "\u001b[2;36m                    \u001b[0m         \u001b[4;94mhttps://pandas.pydata.org/pandas-docs/stable/user_guide/indexing.html#\u001b[0m \u001b[2m               \u001b[0m\n",
       "\u001b[2;36m                    \u001b[0m         \u001b[4;94mreturning-a-view-versus-a-copy\u001b[0m                                         \u001b[2m               \u001b[0m\n",
       "\u001b[2;36m                    \u001b[0m           sobreviveram\u001b[1m[\u001b[0m\u001b[32m'Age'\u001b[0m\u001b[1m]\u001b[0m\u001b[1;35m.fillna\u001b[0m\u001b[1m(\u001b[0mvalue = media_sobreviveram, inplace =     \u001b[2m               \u001b[0m\n",
       "\u001b[2;36m                    \u001b[0m         \u001b[3;92mTrue\u001b[0m\u001b[1m)\u001b[0m                                                                  \u001b[2m               \u001b[0m\n",
       "\u001b[2;36m                    \u001b[0m                                                                                \u001b[2m               \u001b[0m\n"
      ]
     },
     "metadata": {},
     "output_type": "display_data"
    },
    {
     "data": {
      "text/html": [
       "<div>\n",
       "<style scoped>\n",
       "    .dataframe tbody tr th:only-of-type {\n",
       "        vertical-align: middle;\n",
       "    }\n",
       "\n",
       "    .dataframe tbody tr th {\n",
       "        vertical-align: top;\n",
       "    }\n",
       "\n",
       "    .dataframe thead th {\n",
       "        text-align: right;\n",
       "    }\n",
       "</style>\n",
       "<table border=\"1\" class=\"dataframe\">\n",
       "  <thead>\n",
       "    <tr style=\"text-align: right;\">\n",
       "      <th></th>\n",
       "      <th>Survived</th>\n",
       "      <th>Pclass</th>\n",
       "      <th>Name</th>\n",
       "      <th>Sex</th>\n",
       "      <th>Age</th>\n",
       "      <th>SibSp</th>\n",
       "      <th>Parch</th>\n",
       "      <th>Fare</th>\n",
       "      <th>Embarked</th>\n",
       "    </tr>\n",
       "  </thead>\n",
       "  <tbody>\n",
       "    <tr>\n",
       "      <th>1</th>\n",
       "      <td>1</td>\n",
       "      <td>1</td>\n",
       "      <td>Cumings, Mrs. John Bradley (Florence Briggs Th...</td>\n",
       "      <td>female</td>\n",
       "      <td>38.0</td>\n",
       "      <td>1</td>\n",
       "      <td>0</td>\n",
       "      <td>71.2833</td>\n",
       "      <td>C</td>\n",
       "    </tr>\n",
       "    <tr>\n",
       "      <th>2</th>\n",
       "      <td>1</td>\n",
       "      <td>3</td>\n",
       "      <td>Heikkinen, Miss. Laina</td>\n",
       "      <td>female</td>\n",
       "      <td>26.0</td>\n",
       "      <td>0</td>\n",
       "      <td>0</td>\n",
       "      <td>7.9250</td>\n",
       "      <td>S</td>\n",
       "    </tr>\n",
       "    <tr>\n",
       "      <th>3</th>\n",
       "      <td>1</td>\n",
       "      <td>1</td>\n",
       "      <td>Futrelle, Mrs. Jacques Heath (Lily May Peel)</td>\n",
       "      <td>female</td>\n",
       "      <td>35.0</td>\n",
       "      <td>1</td>\n",
       "      <td>0</td>\n",
       "      <td>53.1000</td>\n",
       "      <td>S</td>\n",
       "    </tr>\n",
       "    <tr>\n",
       "      <th>8</th>\n",
       "      <td>1</td>\n",
       "      <td>3</td>\n",
       "      <td>Johnson, Mrs. Oscar W (Elisabeth Vilhelmina Berg)</td>\n",
       "      <td>female</td>\n",
       "      <td>27.0</td>\n",
       "      <td>0</td>\n",
       "      <td>2</td>\n",
       "      <td>11.1333</td>\n",
       "      <td>S</td>\n",
       "    </tr>\n",
       "    <tr>\n",
       "      <th>9</th>\n",
       "      <td>1</td>\n",
       "      <td>2</td>\n",
       "      <td>Nasser, Mrs. Nicholas (Adele Achem)</td>\n",
       "      <td>female</td>\n",
       "      <td>14.0</td>\n",
       "      <td>1</td>\n",
       "      <td>0</td>\n",
       "      <td>30.0708</td>\n",
       "      <td>C</td>\n",
       "    </tr>\n",
       "    <tr>\n",
       "      <th>...</th>\n",
       "      <td>...</td>\n",
       "      <td>...</td>\n",
       "      <td>...</td>\n",
       "      <td>...</td>\n",
       "      <td>...</td>\n",
       "      <td>...</td>\n",
       "      <td>...</td>\n",
       "      <td>...</td>\n",
       "      <td>...</td>\n",
       "    </tr>\n",
       "    <tr>\n",
       "      <th>875</th>\n",
       "      <td>1</td>\n",
       "      <td>3</td>\n",
       "      <td>Najib, Miss. Adele Kiamie \"Jane\"</td>\n",
       "      <td>female</td>\n",
       "      <td>15.0</td>\n",
       "      <td>0</td>\n",
       "      <td>0</td>\n",
       "      <td>7.2250</td>\n",
       "      <td>C</td>\n",
       "    </tr>\n",
       "    <tr>\n",
       "      <th>879</th>\n",
       "      <td>1</td>\n",
       "      <td>1</td>\n",
       "      <td>Potter, Mrs. Thomas Jr (Lily Alexenia Wilson)</td>\n",
       "      <td>female</td>\n",
       "      <td>56.0</td>\n",
       "      <td>0</td>\n",
       "      <td>1</td>\n",
       "      <td>83.1583</td>\n",
       "      <td>C</td>\n",
       "    </tr>\n",
       "    <tr>\n",
       "      <th>880</th>\n",
       "      <td>1</td>\n",
       "      <td>2</td>\n",
       "      <td>Shelley, Mrs. William (Imanita Parrish Hall)</td>\n",
       "      <td>female</td>\n",
       "      <td>25.0</td>\n",
       "      <td>0</td>\n",
       "      <td>1</td>\n",
       "      <td>26.0000</td>\n",
       "      <td>S</td>\n",
       "    </tr>\n",
       "    <tr>\n",
       "      <th>887</th>\n",
       "      <td>1</td>\n",
       "      <td>1</td>\n",
       "      <td>Graham, Miss. Margaret Edith</td>\n",
       "      <td>female</td>\n",
       "      <td>19.0</td>\n",
       "      <td>0</td>\n",
       "      <td>0</td>\n",
       "      <td>30.0000</td>\n",
       "      <td>S</td>\n",
       "    </tr>\n",
       "    <tr>\n",
       "      <th>889</th>\n",
       "      <td>1</td>\n",
       "      <td>1</td>\n",
       "      <td>Behr, Mr. Karl Howell</td>\n",
       "      <td>male</td>\n",
       "      <td>26.0</td>\n",
       "      <td>0</td>\n",
       "      <td>0</td>\n",
       "      <td>30.0000</td>\n",
       "      <td>C</td>\n",
       "    </tr>\n",
       "  </tbody>\n",
       "</table>\n",
       "<p>340 rows × 9 columns</p>\n",
       "</div>"
      ]
     },
     "execution_count": 23,
     "metadata": {},
     "output_type": "execute_result"
    }
   ],
   "source": [
    "media_sobreviveram = sobreviveram['Age'].mean()\n",
    "sobreviveram['Age'].fillna(value = media_sobreviveram, inplace = True)\n",
    "sobreviveram"
   ]
  },
  {
   "cell_type": "code",
   "execution_count": 24,
   "id": "ec45855a-1da2-40d5-9727-3692c63ab844",
   "metadata": {},
   "outputs": [
    {
     "data": {
      "text/html": [
       "<pre style=\"white-space:pre;overflow-x:auto;line-height:normal;font-family:Menlo,'DejaVu Sans Mono',consolas,'Courier New',monospace\"><span style=\"color: #7fbfbf; text-decoration-color: #7fbfbf\">[02/22/23 20:13:29] </span><span style=\"color: #800000; text-decoration-color: #800000\">WARNING </span> C:\\Users\\vinic\\AppData\\Local\\Temp\\ipykernel_5200\\<span style=\"color: #008080; text-decoration-color: #008080; font-weight: bold\">2827402909.</span>py:<span style=\"color: #008080; text-decoration-color: #008080; font-weight: bold\">2</span>:      <span style=\"color: #7f7f7f; text-decoration-color: #7f7f7f\">warnings.py:109</span>\n",
       "<span style=\"color: #7fbfbf; text-decoration-color: #7fbfbf\">                    </span>         SettingWithCopyWarning:                                                <span style=\"color: #7f7f7f; text-decoration-color: #7f7f7f\">               </span>\n",
       "<span style=\"color: #7fbfbf; text-decoration-color: #7fbfbf\">                    </span>         A value is trying to be set on a copy of a slice from a DataFrame      <span style=\"color: #7f7f7f; text-decoration-color: #7f7f7f\">               </span>\n",
       "<span style=\"color: #7fbfbf; text-decoration-color: #7fbfbf\">                    </span>                                                                                <span style=\"color: #7f7f7f; text-decoration-color: #7f7f7f\">               </span>\n",
       "<span style=\"color: #7fbfbf; text-decoration-color: #7fbfbf\">                    </span>         See the caveats in the documentation:                                  <span style=\"color: #7f7f7f; text-decoration-color: #7f7f7f\">               </span>\n",
       "<span style=\"color: #7fbfbf; text-decoration-color: #7fbfbf\">                    </span>         <span style=\"color: #0000ff; text-decoration-color: #0000ff; text-decoration: underline\">https://pandas.pydata.org/pandas-docs/stable/user_guide/indexing.html#</span> <span style=\"color: #7f7f7f; text-decoration-color: #7f7f7f\">               </span>\n",
       "<span style=\"color: #7fbfbf; text-decoration-color: #7fbfbf\">                    </span>         <span style=\"color: #0000ff; text-decoration-color: #0000ff; text-decoration: underline\">returning-a-view-versus-a-copy</span>                                         <span style=\"color: #7f7f7f; text-decoration-color: #7f7f7f\">               </span>\n",
       "<span style=\"color: #7fbfbf; text-decoration-color: #7fbfbf\">                    </span>           nao_sobreviveram<span style=\"font-weight: bold\">[</span><span style=\"color: #008000; text-decoration-color: #008000\">'Age'</span><span style=\"font-weight: bold\">]</span><span style=\"color: #800080; text-decoration-color: #800080; font-weight: bold\">.fillna</span><span style=\"font-weight: bold\">(</span>value = media_nao_sobreviveram,       <span style=\"color: #7f7f7f; text-decoration-color: #7f7f7f\">               </span>\n",
       "<span style=\"color: #7fbfbf; text-decoration-color: #7fbfbf\">                    </span>         inplace = <span style=\"color: #00ff00; text-decoration-color: #00ff00; font-style: italic\">True</span><span style=\"font-weight: bold\">)</span>                                                        <span style=\"color: #7f7f7f; text-decoration-color: #7f7f7f\">               </span>\n",
       "<span style=\"color: #7fbfbf; text-decoration-color: #7fbfbf\">                    </span>                                                                                <span style=\"color: #7f7f7f; text-decoration-color: #7f7f7f\">               </span>\n",
       "</pre>\n"
      ],
      "text/plain": [
       "\u001b[2;36m[02/22/23 20:13:29]\u001b[0m\u001b[2;36m \u001b[0m\u001b[31mWARNING \u001b[0m C:\\Users\\vinic\\AppData\\Local\\Temp\\ipykernel_5200\\\u001b[1;36m2827402909.\u001b[0mpy:\u001b[1;36m2\u001b[0m:      \u001b[2mwarnings.py\u001b[0m\u001b[2m:\u001b[0m\u001b[2m109\u001b[0m\n",
       "\u001b[2;36m                    \u001b[0m         SettingWithCopyWarning:                                                \u001b[2m               \u001b[0m\n",
       "\u001b[2;36m                    \u001b[0m         A value is trying to be set on a copy of a slice from a DataFrame      \u001b[2m               \u001b[0m\n",
       "\u001b[2;36m                    \u001b[0m                                                                                \u001b[2m               \u001b[0m\n",
       "\u001b[2;36m                    \u001b[0m         See the caveats in the documentation:                                  \u001b[2m               \u001b[0m\n",
       "\u001b[2;36m                    \u001b[0m         \u001b[4;94mhttps://pandas.pydata.org/pandas-docs/stable/user_guide/indexing.html#\u001b[0m \u001b[2m               \u001b[0m\n",
       "\u001b[2;36m                    \u001b[0m         \u001b[4;94mreturning-a-view-versus-a-copy\u001b[0m                                         \u001b[2m               \u001b[0m\n",
       "\u001b[2;36m                    \u001b[0m           nao_sobreviveram\u001b[1m[\u001b[0m\u001b[32m'Age'\u001b[0m\u001b[1m]\u001b[0m\u001b[1;35m.fillna\u001b[0m\u001b[1m(\u001b[0mvalue = media_nao_sobreviveram,       \u001b[2m               \u001b[0m\n",
       "\u001b[2;36m                    \u001b[0m         inplace = \u001b[3;92mTrue\u001b[0m\u001b[1m)\u001b[0m                                                        \u001b[2m               \u001b[0m\n",
       "\u001b[2;36m                    \u001b[0m                                                                                \u001b[2m               \u001b[0m\n"
      ]
     },
     "metadata": {},
     "output_type": "display_data"
    },
    {
     "data": {
      "text/html": [
       "<div>\n",
       "<style scoped>\n",
       "    .dataframe tbody tr th:only-of-type {\n",
       "        vertical-align: middle;\n",
       "    }\n",
       "\n",
       "    .dataframe tbody tr th {\n",
       "        vertical-align: top;\n",
       "    }\n",
       "\n",
       "    .dataframe thead th {\n",
       "        text-align: right;\n",
       "    }\n",
       "</style>\n",
       "<table border=\"1\" class=\"dataframe\">\n",
       "  <thead>\n",
       "    <tr style=\"text-align: right;\">\n",
       "      <th></th>\n",
       "      <th>Survived</th>\n",
       "      <th>Pclass</th>\n",
       "      <th>Name</th>\n",
       "      <th>Sex</th>\n",
       "      <th>Age</th>\n",
       "      <th>SibSp</th>\n",
       "      <th>Parch</th>\n",
       "      <th>Fare</th>\n",
       "      <th>Embarked</th>\n",
       "    </tr>\n",
       "  </thead>\n",
       "  <tbody>\n",
       "    <tr>\n",
       "      <th>0</th>\n",
       "      <td>0</td>\n",
       "      <td>3</td>\n",
       "      <td>Braund, Mr. Owen Harris</td>\n",
       "      <td>male</td>\n",
       "      <td>22.000000</td>\n",
       "      <td>1</td>\n",
       "      <td>0</td>\n",
       "      <td>7.2500</td>\n",
       "      <td>S</td>\n",
       "    </tr>\n",
       "    <tr>\n",
       "      <th>4</th>\n",
       "      <td>0</td>\n",
       "      <td>3</td>\n",
       "      <td>Allen, Mr. William Henry</td>\n",
       "      <td>male</td>\n",
       "      <td>35.000000</td>\n",
       "      <td>0</td>\n",
       "      <td>0</td>\n",
       "      <td>8.0500</td>\n",
       "      <td>S</td>\n",
       "    </tr>\n",
       "    <tr>\n",
       "      <th>5</th>\n",
       "      <td>0</td>\n",
       "      <td>3</td>\n",
       "      <td>Moran, Mr. James</td>\n",
       "      <td>male</td>\n",
       "      <td>30.626179</td>\n",
       "      <td>0</td>\n",
       "      <td>0</td>\n",
       "      <td>8.4583</td>\n",
       "      <td>Q</td>\n",
       "    </tr>\n",
       "    <tr>\n",
       "      <th>6</th>\n",
       "      <td>0</td>\n",
       "      <td>1</td>\n",
       "      <td>McCarthy, Mr. Timothy J</td>\n",
       "      <td>male</td>\n",
       "      <td>54.000000</td>\n",
       "      <td>0</td>\n",
       "      <td>0</td>\n",
       "      <td>51.8625</td>\n",
       "      <td>S</td>\n",
       "    </tr>\n",
       "    <tr>\n",
       "      <th>7</th>\n",
       "      <td>0</td>\n",
       "      <td>3</td>\n",
       "      <td>Palsson, Master. Gosta Leonard</td>\n",
       "      <td>male</td>\n",
       "      <td>2.000000</td>\n",
       "      <td>3</td>\n",
       "      <td>1</td>\n",
       "      <td>21.0750</td>\n",
       "      <td>S</td>\n",
       "    </tr>\n",
       "    <tr>\n",
       "      <th>...</th>\n",
       "      <td>...</td>\n",
       "      <td>...</td>\n",
       "      <td>...</td>\n",
       "      <td>...</td>\n",
       "      <td>...</td>\n",
       "      <td>...</td>\n",
       "      <td>...</td>\n",
       "      <td>...</td>\n",
       "      <td>...</td>\n",
       "    </tr>\n",
       "    <tr>\n",
       "      <th>884</th>\n",
       "      <td>0</td>\n",
       "      <td>3</td>\n",
       "      <td>Sutehall, Mr. Henry Jr</td>\n",
       "      <td>male</td>\n",
       "      <td>25.000000</td>\n",
       "      <td>0</td>\n",
       "      <td>0</td>\n",
       "      <td>7.0500</td>\n",
       "      <td>S</td>\n",
       "    </tr>\n",
       "    <tr>\n",
       "      <th>885</th>\n",
       "      <td>0</td>\n",
       "      <td>3</td>\n",
       "      <td>Rice, Mrs. William (Margaret Norton)</td>\n",
       "      <td>female</td>\n",
       "      <td>39.000000</td>\n",
       "      <td>0</td>\n",
       "      <td>5</td>\n",
       "      <td>29.1250</td>\n",
       "      <td>Q</td>\n",
       "    </tr>\n",
       "    <tr>\n",
       "      <th>886</th>\n",
       "      <td>0</td>\n",
       "      <td>2</td>\n",
       "      <td>Montvila, Rev. Juozas</td>\n",
       "      <td>male</td>\n",
       "      <td>27.000000</td>\n",
       "      <td>0</td>\n",
       "      <td>0</td>\n",
       "      <td>13.0000</td>\n",
       "      <td>S</td>\n",
       "    </tr>\n",
       "    <tr>\n",
       "      <th>888</th>\n",
       "      <td>0</td>\n",
       "      <td>3</td>\n",
       "      <td>Johnston, Miss. Catherine Helen \"Carrie\"</td>\n",
       "      <td>female</td>\n",
       "      <td>30.626179</td>\n",
       "      <td>1</td>\n",
       "      <td>2</td>\n",
       "      <td>23.4500</td>\n",
       "      <td>S</td>\n",
       "    </tr>\n",
       "    <tr>\n",
       "      <th>890</th>\n",
       "      <td>0</td>\n",
       "      <td>3</td>\n",
       "      <td>Dooley, Mr. Patrick</td>\n",
       "      <td>male</td>\n",
       "      <td>32.000000</td>\n",
       "      <td>0</td>\n",
       "      <td>0</td>\n",
       "      <td>7.7500</td>\n",
       "      <td>Q</td>\n",
       "    </tr>\n",
       "  </tbody>\n",
       "</table>\n",
       "<p>549 rows × 9 columns</p>\n",
       "</div>"
      ]
     },
     "execution_count": 24,
     "metadata": {},
     "output_type": "execute_result"
    }
   ],
   "source": [
    "media_nao_sobreviveram = nao_sobreviveram['Age'].mean()\n",
    "nao_sobreviveram['Age'].fillna(value = media_nao_sobreviveram, inplace = True)\n",
    "nao_sobreviveram"
   ]
  },
  {
   "cell_type": "code",
   "execution_count": 25,
   "id": "440867d9-a0ed-4b70-ad4b-280afe5dbbe4",
   "metadata": {},
   "outputs": [
    {
     "data": {
      "text/html": [
       "<div>\n",
       "<style scoped>\n",
       "    .dataframe tbody tr th:only-of-type {\n",
       "        vertical-align: middle;\n",
       "    }\n",
       "\n",
       "    .dataframe tbody tr th {\n",
       "        vertical-align: top;\n",
       "    }\n",
       "\n",
       "    .dataframe thead th {\n",
       "        text-align: right;\n",
       "    }\n",
       "</style>\n",
       "<table border=\"1\" class=\"dataframe\">\n",
       "  <thead>\n",
       "    <tr style=\"text-align: right;\">\n",
       "      <th></th>\n",
       "      <th>Survived</th>\n",
       "      <th>Pclass</th>\n",
       "      <th>Name</th>\n",
       "      <th>Sex</th>\n",
       "      <th>Age</th>\n",
       "      <th>SibSp</th>\n",
       "      <th>Parch</th>\n",
       "      <th>Fare</th>\n",
       "      <th>Embarked</th>\n",
       "    </tr>\n",
       "  </thead>\n",
       "  <tbody>\n",
       "    <tr>\n",
       "      <th>0</th>\n",
       "      <td>1</td>\n",
       "      <td>1</td>\n",
       "      <td>Cumings, Mrs. John Bradley (Florence Briggs Th...</td>\n",
       "      <td>female</td>\n",
       "      <td>38.000000</td>\n",
       "      <td>1</td>\n",
       "      <td>0</td>\n",
       "      <td>71.2833</td>\n",
       "      <td>C</td>\n",
       "    </tr>\n",
       "    <tr>\n",
       "      <th>1</th>\n",
       "      <td>1</td>\n",
       "      <td>3</td>\n",
       "      <td>Heikkinen, Miss. Laina</td>\n",
       "      <td>female</td>\n",
       "      <td>26.000000</td>\n",
       "      <td>0</td>\n",
       "      <td>0</td>\n",
       "      <td>7.9250</td>\n",
       "      <td>S</td>\n",
       "    </tr>\n",
       "    <tr>\n",
       "      <th>2</th>\n",
       "      <td>1</td>\n",
       "      <td>1</td>\n",
       "      <td>Futrelle, Mrs. Jacques Heath (Lily May Peel)</td>\n",
       "      <td>female</td>\n",
       "      <td>35.000000</td>\n",
       "      <td>1</td>\n",
       "      <td>0</td>\n",
       "      <td>53.1000</td>\n",
       "      <td>S</td>\n",
       "    </tr>\n",
       "    <tr>\n",
       "      <th>3</th>\n",
       "      <td>1</td>\n",
       "      <td>3</td>\n",
       "      <td>Johnson, Mrs. Oscar W (Elisabeth Vilhelmina Berg)</td>\n",
       "      <td>female</td>\n",
       "      <td>27.000000</td>\n",
       "      <td>0</td>\n",
       "      <td>2</td>\n",
       "      <td>11.1333</td>\n",
       "      <td>S</td>\n",
       "    </tr>\n",
       "    <tr>\n",
       "      <th>4</th>\n",
       "      <td>1</td>\n",
       "      <td>2</td>\n",
       "      <td>Nasser, Mrs. Nicholas (Adele Achem)</td>\n",
       "      <td>female</td>\n",
       "      <td>14.000000</td>\n",
       "      <td>1</td>\n",
       "      <td>0</td>\n",
       "      <td>30.0708</td>\n",
       "      <td>C</td>\n",
       "    </tr>\n",
       "    <tr>\n",
       "      <th>...</th>\n",
       "      <td>...</td>\n",
       "      <td>...</td>\n",
       "      <td>...</td>\n",
       "      <td>...</td>\n",
       "      <td>...</td>\n",
       "      <td>...</td>\n",
       "      <td>...</td>\n",
       "      <td>...</td>\n",
       "      <td>...</td>\n",
       "    </tr>\n",
       "    <tr>\n",
       "      <th>884</th>\n",
       "      <td>0</td>\n",
       "      <td>3</td>\n",
       "      <td>Sutehall, Mr. Henry Jr</td>\n",
       "      <td>male</td>\n",
       "      <td>25.000000</td>\n",
       "      <td>0</td>\n",
       "      <td>0</td>\n",
       "      <td>7.0500</td>\n",
       "      <td>S</td>\n",
       "    </tr>\n",
       "    <tr>\n",
       "      <th>885</th>\n",
       "      <td>0</td>\n",
       "      <td>3</td>\n",
       "      <td>Rice, Mrs. William (Margaret Norton)</td>\n",
       "      <td>female</td>\n",
       "      <td>39.000000</td>\n",
       "      <td>0</td>\n",
       "      <td>5</td>\n",
       "      <td>29.1250</td>\n",
       "      <td>Q</td>\n",
       "    </tr>\n",
       "    <tr>\n",
       "      <th>886</th>\n",
       "      <td>0</td>\n",
       "      <td>2</td>\n",
       "      <td>Montvila, Rev. Juozas</td>\n",
       "      <td>male</td>\n",
       "      <td>27.000000</td>\n",
       "      <td>0</td>\n",
       "      <td>0</td>\n",
       "      <td>13.0000</td>\n",
       "      <td>S</td>\n",
       "    </tr>\n",
       "    <tr>\n",
       "      <th>887</th>\n",
       "      <td>0</td>\n",
       "      <td>3</td>\n",
       "      <td>Johnston, Miss. Catherine Helen \"Carrie\"</td>\n",
       "      <td>female</td>\n",
       "      <td>30.626179</td>\n",
       "      <td>1</td>\n",
       "      <td>2</td>\n",
       "      <td>23.4500</td>\n",
       "      <td>S</td>\n",
       "    </tr>\n",
       "    <tr>\n",
       "      <th>888</th>\n",
       "      <td>0</td>\n",
       "      <td>3</td>\n",
       "      <td>Dooley, Mr. Patrick</td>\n",
       "      <td>male</td>\n",
       "      <td>32.000000</td>\n",
       "      <td>0</td>\n",
       "      <td>0</td>\n",
       "      <td>7.7500</td>\n",
       "      <td>Q</td>\n",
       "    </tr>\n",
       "  </tbody>\n",
       "</table>\n",
       "<p>889 rows × 9 columns</p>\n",
       "</div>"
      ]
     },
     "execution_count": 25,
     "metadata": {},
     "output_type": "execute_result"
    }
   ],
   "source": [
    "# Após a aplicação da média, é necessário concatenar novamente os dataframes\n",
    "\n",
    "df = pd.concat([sobreviveram, nao_sobreviveram],ignore_index=True)\n",
    "df"
   ]
  },
  {
   "cell_type": "markdown",
   "id": "cd013b6a-e74d-4bfd-ba67-b22599a5b1f1",
   "metadata": {},
   "source": [
    "Com os valores de média de idade e de porto de embarque resolvidos, podemos continuar com a análise das colunas de família."
   ]
  },
  {
   "cell_type": "markdown",
   "id": "c62f407d-147b-4b98-804c-8b47ff2fafd5",
   "metadata": {},
   "source": [
    "### Colunas `SibSp` e `Parch`"
   ]
  },
  {
   "cell_type": "markdown",
   "id": "84b5e6d0-c7d4-472c-89fb-1f5dd334c3a5",
   "metadata": {},
   "source": [
    "Essa duas colunas possuem informações sobre parentes de cada passageiro. Por isso, essas colunas serão resumidas em uma coluna que informa o total de familiares de cada passageiro."
   ]
  },
  {
   "cell_type": "code",
   "execution_count": 26,
   "id": "d00807b3-9c1f-4001-bf87-efe6b3e58b41",
   "metadata": {},
   "outputs": [],
   "source": [
    "df['FamilyMembers'] = df['SibSp'] + df['Parch']"
   ]
  },
  {
   "cell_type": "markdown",
   "id": "ceac2dc5-ed57-42f1-9227-9fd945f85dbf",
   "metadata": {},
   "source": [
    "Após isso, podemos excluir as duas colunas de análises futuras."
   ]
  },
  {
   "cell_type": "code",
   "execution_count": 27,
   "id": "bf9f5aa1-f06c-4336-ba94-a674e957b189",
   "metadata": {},
   "outputs": [],
   "source": [
    "df = df.drop(columns = ['SibSp', 'Parch'])"
   ]
  },
  {
   "cell_type": "code",
   "execution_count": 28,
   "id": "d359e206-783d-4d37-aa4c-6037fa990de2",
   "metadata": {},
   "outputs": [
    {
     "data": {
      "text/html": [
       "<div>\n",
       "<style scoped>\n",
       "    .dataframe tbody tr th:only-of-type {\n",
       "        vertical-align: middle;\n",
       "    }\n",
       "\n",
       "    .dataframe tbody tr th {\n",
       "        vertical-align: top;\n",
       "    }\n",
       "\n",
       "    .dataframe thead th {\n",
       "        text-align: right;\n",
       "    }\n",
       "</style>\n",
       "<table border=\"1\" class=\"dataframe\">\n",
       "  <thead>\n",
       "    <tr style=\"text-align: right;\">\n",
       "      <th></th>\n",
       "      <th>Survived</th>\n",
       "      <th>Pclass</th>\n",
       "      <th>Name</th>\n",
       "      <th>Sex</th>\n",
       "      <th>Age</th>\n",
       "      <th>Fare</th>\n",
       "      <th>Embarked</th>\n",
       "      <th>FamilyMembers</th>\n",
       "    </tr>\n",
       "  </thead>\n",
       "  <tbody>\n",
       "    <tr>\n",
       "      <th>0</th>\n",
       "      <td>1</td>\n",
       "      <td>1</td>\n",
       "      <td>Cumings, Mrs. John Bradley (Florence Briggs Th...</td>\n",
       "      <td>female</td>\n",
       "      <td>38.0</td>\n",
       "      <td>71.2833</td>\n",
       "      <td>C</td>\n",
       "      <td>1</td>\n",
       "    </tr>\n",
       "    <tr>\n",
       "      <th>1</th>\n",
       "      <td>1</td>\n",
       "      <td>3</td>\n",
       "      <td>Heikkinen, Miss. Laina</td>\n",
       "      <td>female</td>\n",
       "      <td>26.0</td>\n",
       "      <td>7.9250</td>\n",
       "      <td>S</td>\n",
       "      <td>0</td>\n",
       "    </tr>\n",
       "    <tr>\n",
       "      <th>2</th>\n",
       "      <td>1</td>\n",
       "      <td>1</td>\n",
       "      <td>Futrelle, Mrs. Jacques Heath (Lily May Peel)</td>\n",
       "      <td>female</td>\n",
       "      <td>35.0</td>\n",
       "      <td>53.1000</td>\n",
       "      <td>S</td>\n",
       "      <td>1</td>\n",
       "    </tr>\n",
       "    <tr>\n",
       "      <th>3</th>\n",
       "      <td>1</td>\n",
       "      <td>3</td>\n",
       "      <td>Johnson, Mrs. Oscar W (Elisabeth Vilhelmina Berg)</td>\n",
       "      <td>female</td>\n",
       "      <td>27.0</td>\n",
       "      <td>11.1333</td>\n",
       "      <td>S</td>\n",
       "      <td>2</td>\n",
       "    </tr>\n",
       "    <tr>\n",
       "      <th>4</th>\n",
       "      <td>1</td>\n",
       "      <td>2</td>\n",
       "      <td>Nasser, Mrs. Nicholas (Adele Achem)</td>\n",
       "      <td>female</td>\n",
       "      <td>14.0</td>\n",
       "      <td>30.0708</td>\n",
       "      <td>C</td>\n",
       "      <td>1</td>\n",
       "    </tr>\n",
       "  </tbody>\n",
       "</table>\n",
       "</div>"
      ]
     },
     "execution_count": 28,
     "metadata": {},
     "output_type": "execute_result"
    }
   ],
   "source": [
    "df.head()"
   ]
  },
  {
   "cell_type": "markdown",
   "id": "7f4d024c-074b-4815-b9c7-a4643d3d325b",
   "metadata": {},
   "source": [
    "### Variáveis `Sex` e `Pclass`"
   ]
  },
  {
   "cell_type": "markdown",
   "id": "2e7a3e22-e175-4d74-b9c9-f1686a3b175c",
   "metadata": {},
   "source": [
    "Essas colunas não possuem valores faltantes, porém é interessante ver como está a distribuição da variável `Survived` para as categorias apresentadas."
   ]
  },
  {
   "cell_type": "code",
   "execution_count": 29,
   "id": "ebacdb1f-d8af-4bd5-aa42-62a2c8057ce5",
   "metadata": {},
   "outputs": [
    {
     "data": {
      "image/png": "[encoded data removed]"
     },
     "metadata": {},
     "output_type": "display_data"
    }
   ],
   "source": [
    "import matplotlib.pyplot as plt\n",
    "import seaborn as sns\n",
    "\n",
    "\n",
    "sns.countplot(data = df, x = 'Sex', hue = 'Survived')"
   ]
  },
  {
   "cell_type": "markdown",
   "id": "a9e43608-42b2-4b9e-bb46-2966e2d79241",
   "metadata": {},
   "source": [
    "Vendo a distribuição no gráfico, é percebido que mais mulheres sobreviveram do que homens. Isso acontece mesmo com uma qunatidade maior de homens a bordo.\n",
    "\n",
    "Outra variável que pode mostrar distribuição diferente entre as suas categorias é a variável `Pclass`, que informa a classe do passageiro."
   ]
  },
  {
   "cell_type": "code",
   "execution_count": 27,
   "id": "49f436f1-17a3-45e4-b93c-10cd8a157230",
   "metadata": {},
   "outputs": [
    {
     "data": {
      "image/png": "[encoded data removed]"
     },
     "metadata": {},
     "output_type": "display_data"
    }
   ],
   "source": [
    "import matplotlib.pyplot as plt\n",
    "import seaborn as sns\n",
    "\n",
    "\n",
    "sns.countplot(data = df, x = 'Pclass', hue = 'Survived')"
   ]
  },
  {
   "cell_type": "markdown",
   "id": "a0e69875-367c-495f-a7bf-e4ce23bbe6e1",
   "metadata": {},
   "source": [
    "Novamente é percebido uma distribuição diferente entre as classes, com os passageiros da classe terceira classe tendo um alto risco de não sobreviver."
   ]
  },
  {
   "cell_type": "markdown",
   "id": "1becebd2-e4c0-4182-a25b-ce2b22aaa09a",
   "metadata": {},
   "source": [
    "### Coluna `Name`"
   ]
  },
  {
   "cell_type": "markdown",
   "id": "71c44e63-6d7c-4505-aebe-d379e22b43d4",
   "metadata": {},
   "source": [
    "A coluna Name possui informações únicas. No entanto, há informações sobre títulos dos passageiros dentro dos nomes, o que pode ser útil para análises futuras."
   ]
  },
  {
   "cell_type": "code",
   "execution_count": 28,
   "id": "fd270d8c-9491-463b-adc8-d70a8d38b5a0",
   "metadata": {},
   "outputs": [
    {
     "data": {
      "text/html": [
       "<pre style=\"white-space:pre;overflow-x:auto;line-height:normal;font-family:Menlo,'DejaVu Sans Mono',consolas,'Courier New',monospace\">\n",
       "<span style=\"color: #008080; text-decoration-color: #008080; font-weight: bold\">0</span>      Cumings, Mrs. John Bradley <span style=\"font-weight: bold\">(</span>Florence Briggs Th<span style=\"color: #808000; text-decoration-color: #808000\">...</span>\n",
       "<span style=\"color: #008080; text-decoration-color: #008080; font-weight: bold\">1</span>                                 Heikkinen, Miss. Laina\n",
       "<span style=\"color: #008080; text-decoration-color: #008080; font-weight: bold\">2</span>           Futrelle, Mrs. Jacques Heath <span style=\"font-weight: bold\">(</span>Lily May Peel<span style=\"font-weight: bold\">)</span>\n",
       "<span style=\"color: #008080; text-decoration-color: #008080; font-weight: bold\">3</span>      Johnson, Mrs. Oscar W <span style=\"font-weight: bold\">(</span>Elisabeth Vilhelmina Berg<span style=\"font-weight: bold\">)</span>\n",
       "<span style=\"color: #008080; text-decoration-color: #008080; font-weight: bold\">4</span>                    Nasser, Mrs. Nicholas <span style=\"font-weight: bold\">(</span>Adele Achem<span style=\"font-weight: bold\">)</span>\n",
       "                             <span style=\"color: #808000; text-decoration-color: #808000\">...</span>                        \n",
       "<span style=\"color: #008080; text-decoration-color: #008080; font-weight: bold\">886</span>                               Sutehall, Mr. Henry Jr\n",
       "<span style=\"color: #008080; text-decoration-color: #008080; font-weight: bold\">887</span>                 Rice, Mrs. William <span style=\"font-weight: bold\">(</span>Margaret Norton<span style=\"font-weight: bold\">)</span>\n",
       "<span style=\"color: #008080; text-decoration-color: #008080; font-weight: bold\">888</span>                                Montvila, Rev. Juozas\n",
       "<span style=\"color: #008080; text-decoration-color: #008080; font-weight: bold\">889</span>             Johnston, Miss. Catherine Helen <span style=\"color: #008000; text-decoration-color: #008000\">\"Carrie\"</span>\n",
       "<span style=\"color: #008080; text-decoration-color: #008080; font-weight: bold\">890</span>                                  Dooley, Mr. Patrick\n",
       "Name: Name, Length: <span style=\"color: #008080; text-decoration-color: #008080; font-weight: bold\">891</span>, dtype: object\n",
       "</pre>\n"
      ],
      "text/plain": [
       "\n",
       "\u001b[1;36m0\u001b[0m      Cumings, Mrs. John Bradley \u001b[1m(\u001b[0mFlorence Briggs Th\u001b[33m...\u001b[0m\n",
       "\u001b[1;36m1\u001b[0m                                 Heikkinen, Miss. Laina\n",
       "\u001b[1;36m2\u001b[0m           Futrelle, Mrs. Jacques Heath \u001b[1m(\u001b[0mLily May Peel\u001b[1m)\u001b[0m\n",
       "\u001b[1;36m3\u001b[0m      Johnson, Mrs. Oscar W \u001b[1m(\u001b[0mElisabeth Vilhelmina Berg\u001b[1m)\u001b[0m\n",
       "\u001b[1;36m4\u001b[0m                    Nasser, Mrs. Nicholas \u001b[1m(\u001b[0mAdele Achem\u001b[1m)\u001b[0m\n",
       "                             \u001b[33m...\u001b[0m                        \n",
       "\u001b[1;36m886\u001b[0m                               Sutehall, Mr. Henry Jr\n",
       "\u001b[1;36m887\u001b[0m                 Rice, Mrs. William \u001b[1m(\u001b[0mMargaret Norton\u001b[1m)\u001b[0m\n",
       "\u001b[1;36m888\u001b[0m                                Montvila, Rev. Juozas\n",
       "\u001b[1;36m889\u001b[0m             Johnston, Miss. Catherine Helen \u001b[32m\"Carrie\"\u001b[0m\n",
       "\u001b[1;36m890\u001b[0m                                  Dooley, Mr. Patrick\n",
       "Name: Name, Length: \u001b[1;36m891\u001b[0m, dtype: object\n"
      ]
     },
     "metadata": {},
     "output_type": "display_data"
    }
   ],
   "source": [
    "df['Name']"
   ]
  },
  {
   "cell_type": "code",
   "execution_count": 30,
   "id": "415548ad-8a3a-44d9-90c3-2827324d1f7e",
   "metadata": {},
   "outputs": [
    {
     "data": {
      "text/html": [
       "<div>\n",
       "<style scoped>\n",
       "    .dataframe tbody tr th:only-of-type {\n",
       "        vertical-align: middle;\n",
       "    }\n",
       "\n",
       "    .dataframe tbody tr th {\n",
       "        vertical-align: top;\n",
       "    }\n",
       "\n",
       "    .dataframe thead th {\n",
       "        text-align: right;\n",
       "    }\n",
       "</style>\n",
       "<table border=\"1\" class=\"dataframe\">\n",
       "  <thead>\n",
       "    <tr style=\"text-align: right;\">\n",
       "      <th></th>\n",
       "      <th>Survived</th>\n",
       "      <th>Pclass</th>\n",
       "      <th>Name</th>\n",
       "      <th>Sex</th>\n",
       "      <th>Age</th>\n",
       "      <th>Fare</th>\n",
       "      <th>Embarked</th>\n",
       "      <th>FamilyMembers</th>\n",
       "      <th>Title</th>\n",
       "    </tr>\n",
       "  </thead>\n",
       "  <tbody>\n",
       "    <tr>\n",
       "      <th>0</th>\n",
       "      <td>1</td>\n",
       "      <td>1</td>\n",
       "      <td>Cumings, Mrs. John Bradley (Florence Briggs Th...</td>\n",
       "      <td>female</td>\n",
       "      <td>38.0</td>\n",
       "      <td>71.2833</td>\n",
       "      <td>C</td>\n",
       "      <td>1</td>\n",
       "      <td>Mrs.</td>\n",
       "    </tr>\n",
       "    <tr>\n",
       "      <th>1</th>\n",
       "      <td>1</td>\n",
       "      <td>3</td>\n",
       "      <td>Heikkinen, Miss. Laina</td>\n",
       "      <td>female</td>\n",
       "      <td>26.0</td>\n",
       "      <td>7.9250</td>\n",
       "      <td>S</td>\n",
       "      <td>0</td>\n",
       "      <td>Miss.</td>\n",
       "    </tr>\n",
       "    <tr>\n",
       "      <th>2</th>\n",
       "      <td>1</td>\n",
       "      <td>1</td>\n",
       "      <td>Futrelle, Mrs. Jacques Heath (Lily May Peel)</td>\n",
       "      <td>female</td>\n",
       "      <td>35.0</td>\n",
       "      <td>53.1000</td>\n",
       "      <td>S</td>\n",
       "      <td>1</td>\n",
       "      <td>Mrs.</td>\n",
       "    </tr>\n",
       "    <tr>\n",
       "      <th>3</th>\n",
       "      <td>1</td>\n",
       "      <td>3</td>\n",
       "      <td>Johnson, Mrs. Oscar W (Elisabeth Vilhelmina Berg)</td>\n",
       "      <td>female</td>\n",
       "      <td>27.0</td>\n",
       "      <td>11.1333</td>\n",
       "      <td>S</td>\n",
       "      <td>2</td>\n",
       "      <td>Mrs.</td>\n",
       "    </tr>\n",
       "    <tr>\n",
       "      <th>4</th>\n",
       "      <td>1</td>\n",
       "      <td>2</td>\n",
       "      <td>Nasser, Mrs. Nicholas (Adele Achem)</td>\n",
       "      <td>female</td>\n",
       "      <td>14.0</td>\n",
       "      <td>30.0708</td>\n",
       "      <td>C</td>\n",
       "      <td>1</td>\n",
       "      <td>Mrs.</td>\n",
       "    </tr>\n",
       "  </tbody>\n",
       "</table>\n",
       "</div>"
      ]
     },
     "execution_count": 30,
     "metadata": {},
     "output_type": "execute_result"
    }
   ],
   "source": [
    "## Pega apenas o título de cada nome\n",
    "titulo_com_nome = df['Name'].str.split(pat = ', ').str[1]\n",
    "titulo_sem_nome = titulo_com_nome.str.split().str[0]\n",
    "df['Title'] = titulo_sem_nome\n",
    "df.head()"
   ]
  },
  {
   "cell_type": "markdown",
   "id": "58553bdc-b16d-4659-bcbc-da41e62866a9",
   "metadata": {},
   "source": [
    "Com a coluna criada, pode-se comparar a taxa de mortalidade entre os diferentes títulos"
   ]
  },
  {
   "cell_type": "code",
   "execution_count": 30,
   "id": "ff1a2e5f-4b3e-41bb-8b36-4b90cbee2e25",
   "metadata": {},
   "outputs": [
    {
     "data": {
      "image/png": "[encoded data removed]"
     },
     "metadata": {},
     "output_type": "display_data"
    }
   ],
   "source": [
    "import matplotlib.pyplot as plt\n",
    "import seaborn as sns\n",
    "\n",
    "\n",
    "sns.countplot(data = df, x = 'Title', hue = 'Survived')"
   ]
  },
  {
   "cell_type": "markdown",
   "id": "54c58199-da40-45b9-946f-dff6aacd47d9",
   "metadata": {},
   "source": [
    "Ainda há um alto número de valores diferentes, é necessário procurar entender."
   ]
  },
  {
   "cell_type": "code",
   "execution_count": 31,
   "id": "044edc61-906d-4f92-a126-e2402e3329a7",
   "metadata": {},
   "outputs": [
    {
     "data": {
      "text/html": [
       "<pre style=\"white-space:pre;overflow-x:auto;line-height:normal;font-family:Menlo,'DejaVu Sans Mono',consolas,'Courier New',monospace\">\n",
       "<span style=\"color: #800080; text-decoration-color: #800080; font-weight: bold\">array</span><span style=\"font-weight: bold\">([</span><span style=\"color: #008000; text-decoration-color: #008000\">'Mrs.'</span>, <span style=\"color: #008000; text-decoration-color: #008000\">'Miss.'</span>, <span style=\"color: #008000; text-decoration-color: #008000\">'Mr.'</span>, <span style=\"color: #008000; text-decoration-color: #008000\">'Master.'</span>, <span style=\"color: #008000; text-decoration-color: #008000\">'Mme.'</span>, <span style=\"color: #008000; text-decoration-color: #008000\">'Ms.'</span>, <span style=\"color: #008000; text-decoration-color: #008000\">'Major.'</span>,\n",
       "       <span style=\"color: #008000; text-decoration-color: #008000\">'Lady.'</span>, <span style=\"color: #008000; text-decoration-color: #008000\">'Sir.'</span>, <span style=\"color: #008000; text-decoration-color: #008000\">'Dr.'</span>, <span style=\"color: #008000; text-decoration-color: #008000\">'Mlle.'</span>, <span style=\"color: #008000; text-decoration-color: #008000\">'Col.'</span>, <span style=\"color: #008000; text-decoration-color: #008000\">'the'</span>, <span style=\"color: #008000; text-decoration-color: #008000\">'Don.'</span>, <span style=\"color: #008000; text-decoration-color: #008000\">'Rev.'</span>,\n",
       "       <span style=\"color: #008000; text-decoration-color: #008000\">'Capt.'</span>, <span style=\"color: #008000; text-decoration-color: #008000\">'Jonkheer.'</span><span style=\"font-weight: bold\">]</span>, <span style=\"color: #808000; text-decoration-color: #808000\">dtype</span>=<span style=\"color: #800080; text-decoration-color: #800080\">object</span><span style=\"font-weight: bold\">)</span>\n",
       "</pre>\n"
      ],
      "text/plain": [
       "\n",
       "\u001b[1;35marray\u001b[0m\u001b[1m(\u001b[0m\u001b[1m[\u001b[0m\u001b[32m'Mrs.'\u001b[0m, \u001b[32m'Miss.'\u001b[0m, \u001b[32m'Mr.'\u001b[0m, \u001b[32m'Master.'\u001b[0m, \u001b[32m'Mme.'\u001b[0m, \u001b[32m'Ms.'\u001b[0m, \u001b[32m'Major.'\u001b[0m,\n",
       "       \u001b[32m'Lady.'\u001b[0m, \u001b[32m'Sir.'\u001b[0m, \u001b[32m'Dr.'\u001b[0m, \u001b[32m'Mlle.'\u001b[0m, \u001b[32m'Col.'\u001b[0m, \u001b[32m'the'\u001b[0m, \u001b[32m'Don.'\u001b[0m, \u001b[32m'Rev.'\u001b[0m,\n",
       "       \u001b[32m'Capt.'\u001b[0m, \u001b[32m'Jonkheer.'\u001b[0m\u001b[1m]\u001b[0m, \u001b[33mdtype\u001b[0m=\u001b[35mobject\u001b[0m\u001b[1m)\u001b[0m\n"
      ]
     },
     "metadata": {},
     "output_type": "display_data"
    }
   ],
   "source": [
    "df['Title'].unique()"
   ]
  },
  {
   "cell_type": "markdown",
   "id": "370955dd-7b15-4519-b03c-4f0a464b6c39",
   "metadata": {},
   "source": [
    "Apesar da possibilidade de agrupar, alguns títulos aparecem muito pouco. Além disso, os títulos também possuem ligação com o sexo do passageiro, o que poderia gerar comportamento indesejado do sistema. Por conta disso, essa coluna será removida das análises futuras."
   ]
  },
  {
   "cell_type": "code",
   "execution_count": 32,
   "id": "3b7cd465-8183-44d4-877f-4f7445b61e3b",
   "metadata": {},
   "outputs": [],
   "source": [
    "colunas = ['Title', 'Name']\n",
    "\n",
    "df = df.drop(columns = colunas)"
   ]
  },
  {
   "cell_type": "code",
   "execution_count": 33,
   "id": "255d28af-221c-497f-8949-742cfc4c9148",
   "metadata": {},
   "outputs": [
    {
     "data": {
      "text/html": [
       "<div>\n",
       "<style scoped>\n",
       "    .dataframe tbody tr th:only-of-type {\n",
       "        vertical-align: middle;\n",
       "    }\n",
       "\n",
       "    .dataframe tbody tr th {\n",
       "        vertical-align: top;\n",
       "    }\n",
       "\n",
       "    .dataframe thead th {\n",
       "        text-align: right;\n",
       "    }\n",
       "</style>\n",
       "<table border=\"1\" class=\"dataframe\">\n",
       "  <thead>\n",
       "    <tr style=\"text-align: right;\">\n",
       "      <th></th>\n",
       "      <th>Survived</th>\n",
       "      <th>Pclass</th>\n",
       "      <th>Sex</th>\n",
       "      <th>Age</th>\n",
       "      <th>Fare</th>\n",
       "      <th>Embarked</th>\n",
       "      <th>FamilyMembers</th>\n",
       "    </tr>\n",
       "  </thead>\n",
       "  <tbody>\n",
       "    <tr>\n",
       "      <th>0</th>\n",
       "      <td>1</td>\n",
       "      <td>1</td>\n",
       "      <td>female</td>\n",
       "      <td>38.0</td>\n",
       "      <td>71.2833</td>\n",
       "      <td>C</td>\n",
       "      <td>1</td>\n",
       "    </tr>\n",
       "    <tr>\n",
       "      <th>1</th>\n",
       "      <td>1</td>\n",
       "      <td>3</td>\n",
       "      <td>female</td>\n",
       "      <td>26.0</td>\n",
       "      <td>7.9250</td>\n",
       "      <td>S</td>\n",
       "      <td>0</td>\n",
       "    </tr>\n",
       "    <tr>\n",
       "      <th>2</th>\n",
       "      <td>1</td>\n",
       "      <td>1</td>\n",
       "      <td>female</td>\n",
       "      <td>35.0</td>\n",
       "      <td>53.1000</td>\n",
       "      <td>S</td>\n",
       "      <td>1</td>\n",
       "    </tr>\n",
       "    <tr>\n",
       "      <th>3</th>\n",
       "      <td>1</td>\n",
       "      <td>3</td>\n",
       "      <td>female</td>\n",
       "      <td>27.0</td>\n",
       "      <td>11.1333</td>\n",
       "      <td>S</td>\n",
       "      <td>2</td>\n",
       "    </tr>\n",
       "    <tr>\n",
       "      <th>4</th>\n",
       "      <td>1</td>\n",
       "      <td>2</td>\n",
       "      <td>female</td>\n",
       "      <td>14.0</td>\n",
       "      <td>30.0708</td>\n",
       "      <td>C</td>\n",
       "      <td>1</td>\n",
       "    </tr>\n",
       "  </tbody>\n",
       "</table>\n",
       "</div>"
      ]
     },
     "execution_count": 33,
     "metadata": {},
     "output_type": "execute_result"
    }
   ],
   "source": [
    "df.head()"
   ]
  },
  {
   "cell_type": "markdown",
   "id": "47bfd99e-486c-441a-be81-16888d4167df",
   "metadata": {},
   "source": [
    "Com o final da análise dos nomes, é possível passar para a parte de Feature Engineering. O dataset começou com 9 colunas, sendo 1 a variável target e as outras as features do sistema. Agora, é necessário encodar as variáveis categóricas para que o modelo consiga entender a informação."
   ]
  },
  {
   "cell_type": "markdown",
   "id": "2d1ee698-f669-42e7-bf03-baa5d4ead361",
   "metadata": {},
   "source": [
    "## Encodando as colunas categóricas"
   ]
  },
  {
   "cell_type": "markdown",
   "id": "837f0b96-5179-4ca1-9f6e-b1b20c908277",
   "metadata": {},
   "source": [
    "A última etapa antes da aplicação do modelo, é de aplicar o encoding nas variáveis categórias de texto. Essa etapa irá criar colunas novas para cada categoria. Para isso, será usado o método `get_dummies()`.\n",
    "\n",
    "Para esse modelo, as variáveis numéricas não serão normalizadas pela variância."
   ]
  },
  {
   "cell_type": "code",
   "execution_count": 33,
   "id": "42e0d728-c919-46f5-8721-7f2809013538",
   "metadata": {},
   "outputs": [
    {
     "data": {
      "text/html": [
       "<div>\n",
       "<style scoped>\n",
       "    .dataframe tbody tr th:only-of-type {\n",
       "        vertical-align: middle;\n",
       "    }\n",
       "\n",
       "    .dataframe tbody tr th {\n",
       "        vertical-align: top;\n",
       "    }\n",
       "\n",
       "    .dataframe thead th {\n",
       "        text-align: right;\n",
       "    }\n",
       "</style>\n",
       "<table border=\"1\" class=\"dataframe\">\n",
       "  <thead>\n",
       "    <tr style=\"text-align: right;\">\n",
       "      <th></th>\n",
       "      <th>Survived</th>\n",
       "      <th>Pclass</th>\n",
       "      <th>Age</th>\n",
       "      <th>Fare</th>\n",
       "      <th>FamilyMembers</th>\n",
       "      <th>Sex_female</th>\n",
       "      <th>Sex_male</th>\n",
       "      <th>Embarked_C</th>\n",
       "      <th>Embarked_Q</th>\n",
       "      <th>Embarked_S</th>\n",
       "    </tr>\n",
       "  </thead>\n",
       "  <tbody>\n",
       "    <tr>\n",
       "      <th>0</th>\n",
       "      <td>1</td>\n",
       "      <td>1</td>\n",
       "      <td>38.000000</td>\n",
       "      <td>71.2833</td>\n",
       "      <td>1</td>\n",
       "      <td>1</td>\n",
       "      <td>0</td>\n",
       "      <td>1</td>\n",
       "      <td>0</td>\n",
       "      <td>0</td>\n",
       "    </tr>\n",
       "    <tr>\n",
       "      <th>1</th>\n",
       "      <td>1</td>\n",
       "      <td>3</td>\n",
       "      <td>26.000000</td>\n",
       "      <td>7.9250</td>\n",
       "      <td>0</td>\n",
       "      <td>1</td>\n",
       "      <td>0</td>\n",
       "      <td>0</td>\n",
       "      <td>0</td>\n",
       "      <td>1</td>\n",
       "    </tr>\n",
       "    <tr>\n",
       "      <th>2</th>\n",
       "      <td>1</td>\n",
       "      <td>1</td>\n",
       "      <td>35.000000</td>\n",
       "      <td>53.1000</td>\n",
       "      <td>1</td>\n",
       "      <td>1</td>\n",
       "      <td>0</td>\n",
       "      <td>0</td>\n",
       "      <td>0</td>\n",
       "      <td>1</td>\n",
       "    </tr>\n",
       "    <tr>\n",
       "      <th>3</th>\n",
       "      <td>1</td>\n",
       "      <td>3</td>\n",
       "      <td>27.000000</td>\n",
       "      <td>11.1333</td>\n",
       "      <td>2</td>\n",
       "      <td>1</td>\n",
       "      <td>0</td>\n",
       "      <td>0</td>\n",
       "      <td>0</td>\n",
       "      <td>1</td>\n",
       "    </tr>\n",
       "    <tr>\n",
       "      <th>4</th>\n",
       "      <td>1</td>\n",
       "      <td>2</td>\n",
       "      <td>14.000000</td>\n",
       "      <td>30.0708</td>\n",
       "      <td>1</td>\n",
       "      <td>1</td>\n",
       "      <td>0</td>\n",
       "      <td>1</td>\n",
       "      <td>0</td>\n",
       "      <td>0</td>\n",
       "    </tr>\n",
       "    <tr>\n",
       "      <th>...</th>\n",
       "      <td>...</td>\n",
       "      <td>...</td>\n",
       "      <td>...</td>\n",
       "      <td>...</td>\n",
       "      <td>...</td>\n",
       "      <td>...</td>\n",
       "      <td>...</td>\n",
       "      <td>...</td>\n",
       "      <td>...</td>\n",
       "      <td>...</td>\n",
       "    </tr>\n",
       "    <tr>\n",
       "      <th>884</th>\n",
       "      <td>0</td>\n",
       "      <td>3</td>\n",
       "      <td>25.000000</td>\n",
       "      <td>7.0500</td>\n",
       "      <td>0</td>\n",
       "      <td>0</td>\n",
       "      <td>1</td>\n",
       "      <td>0</td>\n",
       "      <td>0</td>\n",
       "      <td>1</td>\n",
       "    </tr>\n",
       "    <tr>\n",
       "      <th>885</th>\n",
       "      <td>0</td>\n",
       "      <td>3</td>\n",
       "      <td>39.000000</td>\n",
       "      <td>29.1250</td>\n",
       "      <td>5</td>\n",
       "      <td>1</td>\n",
       "      <td>0</td>\n",
       "      <td>0</td>\n",
       "      <td>1</td>\n",
       "      <td>0</td>\n",
       "    </tr>\n",
       "    <tr>\n",
       "      <th>886</th>\n",
       "      <td>0</td>\n",
       "      <td>2</td>\n",
       "      <td>27.000000</td>\n",
       "      <td>13.0000</td>\n",
       "      <td>0</td>\n",
       "      <td>0</td>\n",
       "      <td>1</td>\n",
       "      <td>0</td>\n",
       "      <td>0</td>\n",
       "      <td>1</td>\n",
       "    </tr>\n",
       "    <tr>\n",
       "      <th>887</th>\n",
       "      <td>0</td>\n",
       "      <td>3</td>\n",
       "      <td>30.626179</td>\n",
       "      <td>23.4500</td>\n",
       "      <td>3</td>\n",
       "      <td>1</td>\n",
       "      <td>0</td>\n",
       "      <td>0</td>\n",
       "      <td>0</td>\n",
       "      <td>1</td>\n",
       "    </tr>\n",
       "    <tr>\n",
       "      <th>888</th>\n",
       "      <td>0</td>\n",
       "      <td>3</td>\n",
       "      <td>32.000000</td>\n",
       "      <td>7.7500</td>\n",
       "      <td>0</td>\n",
       "      <td>0</td>\n",
       "      <td>1</td>\n",
       "      <td>0</td>\n",
       "      <td>1</td>\n",
       "      <td>0</td>\n",
       "    </tr>\n",
       "  </tbody>\n",
       "</table>\n",
       "<p>889 rows × 10 columns</p>\n",
       "</div>"
      ]
     },
     "execution_count": 33,
     "metadata": {},
     "output_type": "execute_result"
    }
   ],
   "source": [
    "categoricas = ['Sex','Embarked']\n",
    "\n",
    "df_encoded = pd.get_dummies(data = df, columns = categoricas)\n",
    "df_encoded"
   ]
  },
  {
   "cell_type": "markdown",
   "id": "134e3bcd-c8b1-4a87-9de5-70a386ede577",
   "metadata": {},
   "source": [
    "Com as colunas encodadas, é possível iniciar os testes com modelos de machine learning"
   ]
  },
  {
   "cell_type": "markdown",
   "id": "69ad6af5-208d-48b3-b720-af7e711d588d",
   "metadata": {},
   "source": [
    "## Machine learning"
   ]
  },
  {
   "cell_type": "markdown",
   "id": "94bc2c2f-b7af-470c-a870-b9c8ce7ff5c4",
   "metadata": {},
   "source": [
    "Como a base de dados já trouxe datasets distintos para treino e teste, não será necessário dividir os dados já tratados. É necessário, no entanto, separar a variável target. O modelo de machine learning e sua avaliação estão disponíveis em um notebook separado."
   ]
  }
 ],
 "metadata": {
  "kernelspec": {
   "display_name": "Kedro (titanic_classification)",
   "language": "python",
   "name": "kedro_titanic_classification"
  },
  "language_info": {
   "codemirror_mode": {
    "name": "ipython",
    "version": 3
   },
   "file_extension": ".py",
   "mimetype": "text/x-python",
   "name": "python",
   "nbconvert_exporter": "python",
   "pygments_lexer": "ipython3",
   "version": "3.8.10"
  }
 },
 "nbformat": 4,
 "nbformat_minor": 5
}
