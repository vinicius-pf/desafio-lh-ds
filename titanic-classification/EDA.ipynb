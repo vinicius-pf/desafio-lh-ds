{
 "cells": [
  {
   "cell_type": "markdown",
   "id": "44821832-2268-4b55-ad4e-ac4a008bd607",
   "metadata": {},
   "source": [
    "# Exploratory Data Analysis (EDA)\n",
    "\n",
    "Nesse jupyter notebook se encontram os passos da análise exploratória dos dados, assim como conclusões intermediárias que foram encontradas."
   ]
  },
  {
   "cell_type": "markdown",
   "id": "c28bc35e-3cb4-4e22-b5c4-19d847d7257b",
   "metadata": {
    "tags": []
   },
   "source": [
    "## Importando os arquivos e analisando os dados"
   ]
  },
  {
   "cell_type": "code",
   "execution_count": 1,
   "id": "528fe4fb-6295-4ec1-a907-0c95e06744d7",
   "metadata": {},
   "outputs": [
    {
     "name": "stdout",
     "output_type": "stream",
     "text": [
      "Requirement already satisfied: seaborn in c:\\users\\vinic\\desktop\\lighthouse\\desafio final ds\\desafio-lh-ds\\venv\\lib\\site-packages (0.12.2)\n",
      "Requirement already satisfied: numpy!=1.24.0,>=1.17 in c:\\users\\vinic\\desktop\\lighthouse\\desafio final ds\\desafio-lh-ds\\venv\\lib\\site-packages (from seaborn) (1.24.2)\n",
      "Requirement already satisfied: pandas>=0.25 in c:\\users\\vinic\\desktop\\lighthouse\\desafio final ds\\desafio-lh-ds\\venv\\lib\\site-packages (from seaborn) (1.5.3)\n",
      "Requirement already satisfied: matplotlib!=3.6.1,>=3.1 in c:\\users\\vinic\\desktop\\lighthouse\\desafio final ds\\desafio-lh-ds\\venv\\lib\\site-packages (from seaborn) (3.6.3)\n",
      "Requirement already satisfied: packaging>=20.0 in c:\\users\\vinic\\desktop\\lighthouse\\desafio final ds\\desafio-lh-ds\\venv\\lib\\site-packages (from matplotlib!=3.6.1,>=3.1->seaborn) (23.0)\n",
      "Requirement already satisfied: fonttools>=4.22.0 in c:\\users\\vinic\\desktop\\lighthouse\\desafio final ds\\desafio-lh-ds\\venv\\lib\\site-packages (from matplotlib!=3.6.1,>=3.1->seaborn) (4.38.0)\n",
      "Requirement already satisfied: kiwisolver>=1.0.1 in c:\\users\\vinic\\desktop\\lighthouse\\desafio final ds\\desafio-lh-ds\\venv\\lib\\site-packages (from matplotlib!=3.6.1,>=3.1->seaborn) (1.4.4)\n",
      "Requirement already satisfied: cycler>=0.10 in c:\\users\\vinic\\desktop\\lighthouse\\desafio final ds\\desafio-lh-ds\\venv\\lib\\site-packages (from matplotlib!=3.6.1,>=3.1->seaborn) (0.11.0)\n",
      "Requirement already satisfied: pyparsing>=2.2.1 in c:\\users\\vinic\\desktop\\lighthouse\\desafio final ds\\desafio-lh-ds\\venv\\lib\\site-packages (from matplotlib!=3.6.1,>=3.1->seaborn) (3.0.9)\n",
      "Requirement already satisfied: contourpy>=1.0.1 in c:\\users\\vinic\\desktop\\lighthouse\\desafio final ds\\desafio-lh-ds\\venv\\lib\\site-packages (from matplotlib!=3.6.1,>=3.1->seaborn) (1.0.7)\n",
      "Requirement already satisfied: pillow>=6.2.0 in c:\\users\\vinic\\desktop\\lighthouse\\desafio final ds\\desafio-lh-ds\\venv\\lib\\site-packages (from matplotlib!=3.6.1,>=3.1->seaborn) (9.4.0)\n",
      "Requirement already satisfied: python-dateutil>=2.7 in c:\\users\\vinic\\desktop\\lighthouse\\desafio final ds\\desafio-lh-ds\\venv\\lib\\site-packages (from matplotlib!=3.6.1,>=3.1->seaborn) (2.8.2)\n",
      "Requirement already satisfied: pytz>=2020.1 in c:\\users\\vinic\\desktop\\lighthouse\\desafio final ds\\desafio-lh-ds\\venv\\lib\\site-packages (from pandas>=0.25->seaborn) (2022.7.1)\n",
      "Requirement already satisfied: six>=1.5 in c:\\users\\vinic\\desktop\\lighthouse\\desafio final ds\\desafio-lh-ds\\venv\\lib\\site-packages (from python-dateutil>=2.7->matplotlib!=3.6.1,>=3.1->seaborn) (1.16.0)\n"
     ]
    }
   ],
   "source": [
    "!pip install seaborn"
   ]
  },
  {
   "cell_type": "code",
   "execution_count": 2,
   "id": "10fa7084-fa42-4e69-b6ab-a0bdd269ee5b",
   "metadata": {},
   "outputs": [],
   "source": [
    "import pandas as pd"
   ]
  },
  {
   "cell_type": "code",
   "execution_count": 3,
   "id": "cdc48ec1-a512-45a5-8863-b834dc51ea94",
   "metadata": {},
   "outputs": [
    {
     "data": {
      "text/html": [
       "<pre style=\"white-space:pre;overflow-x:auto;line-height:normal;font-family:Menlo,'DejaVu Sans Mono',consolas,'Courier New',monospace\"><span style=\"font-weight: bold\">[</span><span style=\"color: #008000; text-decoration-color: #008000\">'training_dataset'</span>, <span style=\"color: #008000; text-decoration-color: #008000\">'test_dataset'</span>, <span style=\"color: #008000; text-decoration-color: #008000\">'parameters'</span><span style=\"font-weight: bold\">]</span>\n",
       "</pre>\n"
      ],
      "text/plain": [
       "\u001b[1m[\u001b[0m\u001b[32m'training_dataset'\u001b[0m, \u001b[32m'test_dataset'\u001b[0m, \u001b[32m'parameters'\u001b[0m\u001b[1m]\u001b[0m\n"
      ]
     },
     "metadata": {},
     "output_type": "display_data"
    }
   ],
   "source": [
    "catalog.list()"
   ]
  },
  {
   "cell_type": "code",
   "execution_count": 4,
   "id": "3d69cfc9-25ee-43f7-9577-b33c4da3e87b",
   "metadata": {},
   "outputs": [
    {
     "data": {
      "text/html": [
       "<pre style=\"white-space:pre;overflow-x:auto;line-height:normal;font-family:Menlo,'DejaVu Sans Mono',consolas,'Courier New',monospace\"><span style=\"color: #7fbfbf; text-decoration-color: #7fbfbf\">[02/13/23 14:30:02] </span><span style=\"color: #000080; text-decoration-color: #000080\">INFO    </span> Loading data from <span style=\"color: #008000; text-decoration-color: #008000\">'training_dataset'</span> <span style=\"font-weight: bold\">(</span>CSVDataSet<span style=\"font-weight: bold\">)</span><span style=\"color: #808000; text-decoration-color: #808000\">...</span>               <span style=\"color: #7f7f7f; text-decoration-color: #7f7f7f\">data_catalog.py:343</span>\n",
       "</pre>\n"
      ],
      "text/plain": [
       "\u001b[2;36m[02/13/23 14:30:02]\u001b[0m\u001b[2;36m \u001b[0m\u001b[34mINFO    \u001b[0m Loading data from \u001b[32m'training_dataset'\u001b[0m \u001b[1m(\u001b[0mCSVDataSet\u001b[1m)\u001b[0m\u001b[33m...\u001b[0m               \u001b[2mdata_catalog.py\u001b[0m\u001b[2m:\u001b[0m\u001b[2m343\u001b[0m\n"
      ]
     },
     "metadata": {},
     "output_type": "display_data"
    }
   ],
   "source": [
    "df = catalog.load('training_dataset')"
   ]
  },
  {
   "cell_type": "code",
   "execution_count": 5,
   "id": "a7ffcd39-298e-4b2a-95fe-188c0f18211c",
   "metadata": {},
   "outputs": [
    {
     "data": {
      "text/html": [
       "<div>\n",
       "<style scoped>\n",
       "    .dataframe tbody tr th:only-of-type {\n",
       "        vertical-align: middle;\n",
       "    }\n",
       "\n",
       "    .dataframe tbody tr th {\n",
       "        vertical-align: top;\n",
       "    }\n",
       "\n",
       "    .dataframe thead th {\n",
       "        text-align: right;\n",
       "    }\n",
       "</style>\n",
       "<table border=\"1\" class=\"dataframe\">\n",
       "  <thead>\n",
       "    <tr style=\"text-align: right;\">\n",
       "      <th></th>\n",
       "      <th>PassengerId</th>\n",
       "      <th>Survived</th>\n",
       "      <th>Pclass</th>\n",
       "      <th>Name</th>\n",
       "      <th>Sex</th>\n",
       "      <th>Age</th>\n",
       "      <th>SibSp</th>\n",
       "      <th>Parch</th>\n",
       "      <th>Ticket</th>\n",
       "      <th>Fare</th>\n",
       "      <th>Cabin</th>\n",
       "      <th>Embarked</th>\n",
       "    </tr>\n",
       "  </thead>\n",
       "  <tbody>\n",
       "    <tr>\n",
       "      <th>0</th>\n",
       "      <td>1</td>\n",
       "      <td>0</td>\n",
       "      <td>3</td>\n",
       "      <td>Braund, Mr. Owen Harris</td>\n",
       "      <td>male</td>\n",
       "      <td>22.0</td>\n",
       "      <td>1</td>\n",
       "      <td>0</td>\n",
       "      <td>A/5 21171</td>\n",
       "      <td>7.2500</td>\n",
       "      <td>NaN</td>\n",
       "      <td>S</td>\n",
       "    </tr>\n",
       "    <tr>\n",
       "      <th>1</th>\n",
       "      <td>2</td>\n",
       "      <td>1</td>\n",
       "      <td>1</td>\n",
       "      <td>Cumings, Mrs. John Bradley (Florence Briggs Th...</td>\n",
       "      <td>female</td>\n",
       "      <td>38.0</td>\n",
       "      <td>1</td>\n",
       "      <td>0</td>\n",
       "      <td>PC 17599</td>\n",
       "      <td>71.2833</td>\n",
       "      <td>C85</td>\n",
       "      <td>C</td>\n",
       "    </tr>\n",
       "    <tr>\n",
       "      <th>2</th>\n",
       "      <td>3</td>\n",
       "      <td>1</td>\n",
       "      <td>3</td>\n",
       "      <td>Heikkinen, Miss. Laina</td>\n",
       "      <td>female</td>\n",
       "      <td>26.0</td>\n",
       "      <td>0</td>\n",
       "      <td>0</td>\n",
       "      <td>STON/O2. 3101282</td>\n",
       "      <td>7.9250</td>\n",
       "      <td>NaN</td>\n",
       "      <td>S</td>\n",
       "    </tr>\n",
       "    <tr>\n",
       "      <th>3</th>\n",
       "      <td>4</td>\n",
       "      <td>1</td>\n",
       "      <td>1</td>\n",
       "      <td>Futrelle, Mrs. Jacques Heath (Lily May Peel)</td>\n",
       "      <td>female</td>\n",
       "      <td>35.0</td>\n",
       "      <td>1</td>\n",
       "      <td>0</td>\n",
       "      <td>113803</td>\n",
       "      <td>53.1000</td>\n",
       "      <td>C123</td>\n",
       "      <td>S</td>\n",
       "    </tr>\n",
       "    <tr>\n",
       "      <th>4</th>\n",
       "      <td>5</td>\n",
       "      <td>0</td>\n",
       "      <td>3</td>\n",
       "      <td>Allen, Mr. William Henry</td>\n",
       "      <td>male</td>\n",
       "      <td>35.0</td>\n",
       "      <td>0</td>\n",
       "      <td>0</td>\n",
       "      <td>373450</td>\n",
       "      <td>8.0500</td>\n",
       "      <td>NaN</td>\n",
       "      <td>S</td>\n",
       "    </tr>\n",
       "  </tbody>\n",
       "</table>\n",
       "</div>"
      ]
     },
     "execution_count": 5,
     "metadata": {},
     "output_type": "execute_result"
    }
   ],
   "source": [
    "df.head()"
   ]
  },
  {
   "cell_type": "code",
   "execution_count": 6,
   "id": "c3a53fb3-c7a7-4de0-a3bd-3461a770d9c9",
   "metadata": {},
   "outputs": [
    {
     "name": "stdout",
     "output_type": "stream",
     "text": [
      "<class 'pandas.core.frame.DataFrame'>\n",
      "RangeIndex: 891 entries, 0 to 890\n",
      "Data columns (total 12 columns):\n",
      " #   Column       Non-Null Count  Dtype  \n",
      "---  ------       --------------  -----  \n",
      " 0   PassengerId  891 non-null    int64  \n",
      " 1   Survived     891 non-null    int64  \n",
      " 2   Pclass       891 non-null    int64  \n",
      " 3   Name         891 non-null    object \n",
      " 4   Sex          891 non-null    object \n",
      " 5   Age          714 non-null    float64\n",
      " 6   SibSp        891 non-null    int64  \n",
      " 7   Parch        891 non-null    int64  \n",
      " 8   Ticket       891 non-null    object \n",
      " 9   Fare         891 non-null    float64\n",
      " 10  Cabin        204 non-null    object \n",
      " 11  Embarked     889 non-null    object \n",
      "dtypes: float64(2), int64(5), object(5)\n",
      "memory usage: 83.7+ KB\n"
     ]
    }
   ],
   "source": [
    "df.info()"
   ]
  },
  {
   "cell_type": "markdown",
   "id": "cdef1339-df33-4e3b-987c-06c1498793fe",
   "metadata": {},
   "source": [
    "Tambem foi disponibilizado um dicionário:\n",
    "    \n",
    "Variável|Definição|Key\n",
    "--------|----------|---\n",
    "survival|Indica se o passageiro sobreviveu|0 = Não, 1 = Sim\n",
    "pclass|Classe do passageiro|1 = Primeira, 2 = Segunda, 3 = Terceira\n",
    "sex|Genero|\n",
    "Age|Idade em anos|\n",
    "sibsp|número de parentes/cônjuges a bordo do Titanic|\n",
    "parch|numero de pais/filhos a bordo do Titanic|\n",
    "ticket|Número do ticket|\n",
    "fare|Valor pago pelo passageiro|\n",
    "cabin|Número da cabine|\n",
    "embarked|Porto de embarque|C = Cherbourg, Q = Queenstown, S = Southampton  "
   ]
  },
  {
   "cell_type": "markdown",
   "id": "afdcd163-3e64-43d0-a0b3-05dde1d827bd",
   "metadata": {},
   "source": [
    "Após a aplicação dos métodos `info()` e `head()`, foram feitas algumas conclusões:\n",
    "\n",
    "1 - As variáveis `Age`, `Cabin` e `Embarked` possuem informações nulas. Essa colunas deverão ser analizadas mais profundamente para entender o motivo.\n",
    "\n",
    "2 - A variável `PassengerId` contém informações únicas para todas as linhas e não será útil em análises, por isso ela será removida do DataFrame. A *feature* Ticket também parece conter informações únicas e será analisada mais a fundo.\n",
    "\n",
    "3 - As colunas `SibSp` e `Parch` contém informações sobre a quantidade de familiares. Análises posteriores serão efetuadas para a possibilidade de união das duas colunas.\n",
    "\n",
    "4 - A variável `Name` possui, além do nome, informações a respeito de títulos de cada passageiro. Ela pode ser analisada mais a fundo.\n",
    "\n",
    "5 - Há variáveis numéricas discretas e variáveis categóricas. As variáveis categóricas deverão ser tratadas durante a etapa de *feature engeneering*."
   ]
  },
  {
   "cell_type": "markdown",
   "id": "bb56cde9-2956-4c4f-b72f-e6d5f1b12999",
   "metadata": {},
   "source": [
    "## Aprofundando"
   ]
  },
  {
   "cell_type": "markdown",
   "id": "32395a2b-b7af-4d95-a781-4272177bc4ac",
   "metadata": {},
   "source": [
    "### Removendo colunas"
   ]
  },
  {
   "cell_type": "markdown",
   "id": "130571ce-7e54-4e65-a11b-1af79991d913",
   "metadata": {},
   "source": [
    "Primeiro vamos remover a coluna `PassengerId`, que não será aproveitada:"
   ]
  },
  {
   "cell_type": "code",
   "execution_count": 7,
   "id": "5612f050-c99f-40d5-ab48-7472dbdf4337",
   "metadata": {},
   "outputs": [],
   "source": [
    "df = df.drop(columns = 'PassengerId')"
   ]
  },
  {
   "cell_type": "markdown",
   "id": "be82e3ce-4129-4673-a35f-c411237596f0",
   "metadata": {},
   "source": [
    "Podemos também analisar a coluna `Ticket`:"
   ]
  },
  {
   "cell_type": "code",
   "execution_count": 8,
   "id": "b447cef7-a3ae-4882-9136-3e3cf9e87a1b",
   "metadata": {},
   "outputs": [
    {
     "data": {
      "text/html": [
       "<pre style=\"white-space:pre;overflow-x:auto;line-height:normal;font-family:Menlo,'DejaVu Sans Mono',consolas,'Courier New',monospace\">\n",
       "<span style=\"color: #008080; text-decoration-color: #008080; font-weight: bold\">347082</span>      <span style=\"color: #008080; text-decoration-color: #008080; font-weight: bold\">7</span>\n",
       "CA. <span style=\"color: #008080; text-decoration-color: #008080; font-weight: bold\">2343</span>    <span style=\"color: #008080; text-decoration-color: #008080; font-weight: bold\">7</span>\n",
       "<span style=\"color: #008080; text-decoration-color: #008080; font-weight: bold\">1601</span>        <span style=\"color: #008080; text-decoration-color: #008080; font-weight: bold\">7</span>\n",
       "<span style=\"color: #008080; text-decoration-color: #008080; font-weight: bold\">3101295</span>     <span style=\"color: #008080; text-decoration-color: #008080; font-weight: bold\">6</span>\n",
       "CA <span style=\"color: #008080; text-decoration-color: #008080; font-weight: bold\">2144</span>     <span style=\"color: #008080; text-decoration-color: #008080; font-weight: bold\">6</span>\n",
       "           ..\n",
       "<span style=\"color: #008080; text-decoration-color: #008080; font-weight: bold\">9234</span>        <span style=\"color: #008080; text-decoration-color: #008080; font-weight: bold\">1</span>\n",
       "<span style=\"color: #008080; text-decoration-color: #008080; font-weight: bold\">19988</span>       <span style=\"color: #008080; text-decoration-color: #008080; font-weight: bold\">1</span>\n",
       "<span style=\"color: #008080; text-decoration-color: #008080; font-weight: bold\">2693</span>        <span style=\"color: #008080; text-decoration-color: #008080; font-weight: bold\">1</span>\n",
       "PC <span style=\"color: #008080; text-decoration-color: #008080; font-weight: bold\">17612</span>    <span style=\"color: #008080; text-decoration-color: #008080; font-weight: bold\">1</span>\n",
       "<span style=\"color: #008080; text-decoration-color: #008080; font-weight: bold\">370376</span>      <span style=\"color: #008080; text-decoration-color: #008080; font-weight: bold\">1</span>\n",
       "Name: Ticket, Length: <span style=\"color: #008080; text-decoration-color: #008080; font-weight: bold\">681</span>, dtype: int64\n",
       "</pre>\n"
      ],
      "text/plain": [
       "\n",
       "\u001b[1;36m347082\u001b[0m      \u001b[1;36m7\u001b[0m\n",
       "CA. \u001b[1;36m2343\u001b[0m    \u001b[1;36m7\u001b[0m\n",
       "\u001b[1;36m1601\u001b[0m        \u001b[1;36m7\u001b[0m\n",
       "\u001b[1;36m3101295\u001b[0m     \u001b[1;36m6\u001b[0m\n",
       "CA \u001b[1;36m2144\u001b[0m     \u001b[1;36m6\u001b[0m\n",
       "           ..\n",
       "\u001b[1;36m9234\u001b[0m        \u001b[1;36m1\u001b[0m\n",
       "\u001b[1;36m19988\u001b[0m       \u001b[1;36m1\u001b[0m\n",
       "\u001b[1;36m2693\u001b[0m        \u001b[1;36m1\u001b[0m\n",
       "PC \u001b[1;36m17612\u001b[0m    \u001b[1;36m1\u001b[0m\n",
       "\u001b[1;36m370376\u001b[0m      \u001b[1;36m1\u001b[0m\n",
       "Name: Ticket, Length: \u001b[1;36m681\u001b[0m, dtype: int64\n"
      ]
     },
     "metadata": {},
     "output_type": "display_data"
    }
   ],
   "source": [
    "df['Ticket'].value_counts()"
   ]
  },
  {
   "cell_type": "markdown",
   "id": "b4ec75ec-e178-4e3a-b68f-cdad7ae5a3ca",
   "metadata": {},
   "source": [
    "A coluna apresenta passageiros com o mesmo cartão, mas apresenta 681 valores únicos. Por isso ela também será removida"
   ]
  },
  {
   "cell_type": "code",
   "execution_count": 9,
   "id": "9c5a174b-e0b7-4f65-b42b-6d19028180b8",
   "metadata": {},
   "outputs": [],
   "source": [
    "df = df.drop(columns = 'Ticket')"
   ]
  },
  {
   "cell_type": "markdown",
   "id": "c48d2794-3eec-45d9-a6b0-bf5325963652",
   "metadata": {},
   "source": [
    "Outra coluna que pode ser analisada para remoção é a coluna `Cabin`. Ela contém valores nulos."
   ]
  },
  {
   "cell_type": "code",
   "execution_count": 10,
   "id": "4c29e055-6385-4a61-bf1e-65646b9de0a9",
   "metadata": {},
   "outputs": [
    {
     "data": {
      "text/html": [
       "<pre style=\"white-space:pre;overflow-x:auto;line-height:normal;font-family:Menlo,'DejaVu Sans Mono',consolas,'Courier New',monospace\">\n",
       "<span style=\"color: #00ff00; text-decoration-color: #00ff00; font-style: italic\">True</span>     <span style=\"color: #008080; text-decoration-color: #008080; font-weight: bold\">687</span>\n",
       "<span style=\"color: #ff0000; text-decoration-color: #ff0000; font-style: italic\">False</span>    <span style=\"color: #008080; text-decoration-color: #008080; font-weight: bold\">204</span>\n",
       "Name: Cabin, dtype: int64\n",
       "</pre>\n"
      ],
      "text/plain": [
       "\n",
       "\u001b[3;92mTrue\u001b[0m     \u001b[1;36m687\u001b[0m\n",
       "\u001b[3;91mFalse\u001b[0m    \u001b[1;36m204\u001b[0m\n",
       "Name: Cabin, dtype: int64\n"
      ]
     },
     "metadata": {},
     "output_type": "display_data"
    }
   ],
   "source": [
    "df['Cabin'].isnull().value_counts()"
   ]
  },
  {
   "cell_type": "markdown",
   "id": "fbbcfbda-4fcd-4e77-b5f5-1af9fc26e174",
   "metadata": {},
   "source": [
    "Por apresentar um grande número de valores nulos, essa coluna será removida."
   ]
  },
  {
   "cell_type": "code",
   "execution_count": 11,
   "id": "cb1517d3-b47e-4ca8-a381-4ce348244aae",
   "metadata": {},
   "outputs": [],
   "source": [
    "df = df.drop(columns = 'Cabin')"
   ]
  },
  {
   "cell_type": "code",
   "execution_count": 12,
   "id": "d0c06237-635b-46aa-a0c9-03fc979e64b0",
   "metadata": {},
   "outputs": [
    {
     "data": {
      "text/html": [
       "<div>\n",
       "<style scoped>\n",
       "    .dataframe tbody tr th:only-of-type {\n",
       "        vertical-align: middle;\n",
       "    }\n",
       "\n",
       "    .dataframe tbody tr th {\n",
       "        vertical-align: top;\n",
       "    }\n",
       "\n",
       "    .dataframe thead th {\n",
       "        text-align: right;\n",
       "    }\n",
       "</style>\n",
       "<table border=\"1\" class=\"dataframe\">\n",
       "  <thead>\n",
       "    <tr style=\"text-align: right;\">\n",
       "      <th></th>\n",
       "      <th>Survived</th>\n",
       "      <th>Pclass</th>\n",
       "      <th>Name</th>\n",
       "      <th>Sex</th>\n",
       "      <th>Age</th>\n",
       "      <th>SibSp</th>\n",
       "      <th>Parch</th>\n",
       "      <th>Fare</th>\n",
       "      <th>Embarked</th>\n",
       "    </tr>\n",
       "  </thead>\n",
       "  <tbody>\n",
       "    <tr>\n",
       "      <th>0</th>\n",
       "      <td>0</td>\n",
       "      <td>3</td>\n",
       "      <td>Braund, Mr. Owen Harris</td>\n",
       "      <td>male</td>\n",
       "      <td>22.0</td>\n",
       "      <td>1</td>\n",
       "      <td>0</td>\n",
       "      <td>7.2500</td>\n",
       "      <td>S</td>\n",
       "    </tr>\n",
       "    <tr>\n",
       "      <th>1</th>\n",
       "      <td>1</td>\n",
       "      <td>1</td>\n",
       "      <td>Cumings, Mrs. John Bradley (Florence Briggs Th...</td>\n",
       "      <td>female</td>\n",
       "      <td>38.0</td>\n",
       "      <td>1</td>\n",
       "      <td>0</td>\n",
       "      <td>71.2833</td>\n",
       "      <td>C</td>\n",
       "    </tr>\n",
       "    <tr>\n",
       "      <th>2</th>\n",
       "      <td>1</td>\n",
       "      <td>3</td>\n",
       "      <td>Heikkinen, Miss. Laina</td>\n",
       "      <td>female</td>\n",
       "      <td>26.0</td>\n",
       "      <td>0</td>\n",
       "      <td>0</td>\n",
       "      <td>7.9250</td>\n",
       "      <td>S</td>\n",
       "    </tr>\n",
       "    <tr>\n",
       "      <th>3</th>\n",
       "      <td>1</td>\n",
       "      <td>1</td>\n",
       "      <td>Futrelle, Mrs. Jacques Heath (Lily May Peel)</td>\n",
       "      <td>female</td>\n",
       "      <td>35.0</td>\n",
       "      <td>1</td>\n",
       "      <td>0</td>\n",
       "      <td>53.1000</td>\n",
       "      <td>S</td>\n",
       "    </tr>\n",
       "    <tr>\n",
       "      <th>4</th>\n",
       "      <td>0</td>\n",
       "      <td>3</td>\n",
       "      <td>Allen, Mr. William Henry</td>\n",
       "      <td>male</td>\n",
       "      <td>35.0</td>\n",
       "      <td>0</td>\n",
       "      <td>0</td>\n",
       "      <td>8.0500</td>\n",
       "      <td>S</td>\n",
       "    </tr>\n",
       "  </tbody>\n",
       "</table>\n",
       "</div>"
      ]
     },
     "execution_count": 12,
     "metadata": {},
     "output_type": "execute_result"
    }
   ],
   "source": [
    "df.head()"
   ]
  },
  {
   "cell_type": "markdown",
   "id": "3bcad884-6baa-4edf-91ea-57a1ac1ffefa",
   "metadata": {},
   "source": [
    "### Colunas Age e Embarked"
   ]
  },
  {
   "cell_type": "markdown",
   "id": "79c11406-c0e7-4581-a159-deb6b24648a3",
   "metadata": {},
   "source": [
    "Primeiramente vamos olhar para a coluna `Embarked`, que sinaliza o porto de embarque de cada passageiro."
   ]
  },
  {
   "cell_type": "code",
   "execution_count": 13,
   "id": "fcbec476-7115-4d9c-a71a-09e3980b3aa5",
   "metadata": {},
   "outputs": [
    {
     "data": {
      "text/html": [
       "<pre style=\"white-space:pre;overflow-x:auto;line-height:normal;font-family:Menlo,'DejaVu Sans Mono',consolas,'Courier New',monospace\">\n",
       "S    <span style=\"color: #008080; text-decoration-color: #008080; font-weight: bold\">644</span>\n",
       "C    <span style=\"color: #008080; text-decoration-color: #008080; font-weight: bold\">168</span>\n",
       "Q     <span style=\"color: #008080; text-decoration-color: #008080; font-weight: bold\">77</span>\n",
       "Name: Embarked, dtype: int64\n",
       "</pre>\n"
      ],
      "text/plain": [
       "\n",
       "S    \u001b[1;36m644\u001b[0m\n",
       "C    \u001b[1;36m168\u001b[0m\n",
       "Q     \u001b[1;36m77\u001b[0m\n",
       "Name: Embarked, dtype: int64\n"
      ]
     },
     "metadata": {},
     "output_type": "display_data"
    }
   ],
   "source": [
    "df['Embarked'].value_counts()"
   ]
  },
  {
   "cell_type": "markdown",
   "id": "77e9a615-17fe-47d3-8110-b0d9bb1dcb99",
   "metadata": {},
   "source": [
    "Na análise com o método `info()`, foram descobertos valores nulos. Vamos pegar apenas esses registros e verificar:"
   ]
  },
  {
   "cell_type": "code",
   "execution_count": 14,
   "id": "280f33f8-7619-41aa-81a0-f985ab31abd5",
   "metadata": {},
   "outputs": [
    {
     "data": {
      "text/html": [
       "<div>\n",
       "<style scoped>\n",
       "    .dataframe tbody tr th:only-of-type {\n",
       "        vertical-align: middle;\n",
       "    }\n",
       "\n",
       "    .dataframe tbody tr th {\n",
       "        vertical-align: top;\n",
       "    }\n",
       "\n",
       "    .dataframe thead th {\n",
       "        text-align: right;\n",
       "    }\n",
       "</style>\n",
       "<table border=\"1\" class=\"dataframe\">\n",
       "  <thead>\n",
       "    <tr style=\"text-align: right;\">\n",
       "      <th></th>\n",
       "      <th>Survived</th>\n",
       "      <th>Pclass</th>\n",
       "      <th>Name</th>\n",
       "      <th>Sex</th>\n",
       "      <th>Age</th>\n",
       "      <th>SibSp</th>\n",
       "      <th>Parch</th>\n",
       "      <th>Fare</th>\n",
       "      <th>Embarked</th>\n",
       "    </tr>\n",
       "  </thead>\n",
       "  <tbody>\n",
       "    <tr>\n",
       "      <th>61</th>\n",
       "      <td>1</td>\n",
       "      <td>1</td>\n",
       "      <td>Icard, Miss. Amelie</td>\n",
       "      <td>female</td>\n",
       "      <td>38.0</td>\n",
       "      <td>0</td>\n",
       "      <td>0</td>\n",
       "      <td>80.0</td>\n",
       "      <td>NaN</td>\n",
       "    </tr>\n",
       "    <tr>\n",
       "      <th>829</th>\n",
       "      <td>1</td>\n",
       "      <td>1</td>\n",
       "      <td>Stone, Mrs. George Nelson (Martha Evelyn)</td>\n",
       "      <td>female</td>\n",
       "      <td>62.0</td>\n",
       "      <td>0</td>\n",
       "      <td>0</td>\n",
       "      <td>80.0</td>\n",
       "      <td>NaN</td>\n",
       "    </tr>\n",
       "  </tbody>\n",
       "</table>\n",
       "</div>"
      ]
     },
     "execution_count": 14,
     "metadata": {},
     "output_type": "execute_result"
    }
   ],
   "source": [
    "df[df.Embarked.isnull()]"
   ]
  },
  {
   "cell_type": "markdown",
   "id": "f76a7806-27f6-4a71-a716-9731c9a97d15",
   "metadata": {},
   "source": [
    "Podemo verificar como é a distribuição de sobreviventes entre portos, para saber se há a necessidade de manter essa coluna."
   ]
  },
  {
   "cell_type": "code",
   "execution_count": 16,
   "id": "f9831519-5234-4a07-9adf-ae79a521a7ea",
   "metadata": {},
   "outputs": [
    {
     "data": {
      "image/png": "[encoded data removed]"
     },
     "metadata": {},
     "output_type": "display_data"
    }
   ],
   "source": [
    "import matplotlib.pyplot as plt\n",
    "import seaborn as sns\n",
    "\n",
    "\n",
    "sns.countplot(data = df, x = 'Embarked', hue = 'Survived')"
   ]
  },
  {
   "cell_type": "markdown",
   "id": "346199e8-469d-42ea-8739-ad157bc39533",
   "metadata": {},
   "source": [
    "Como a coluna apresenta uma distribuição diferente para cada porto, é interessante manter essa coluna para análises futuras. "
   ]
  },
  {
   "cell_type": "markdown",
   "id": "c62f407d-147b-4b98-804c-8b47ff2fafd5",
   "metadata": {},
   "source": [
    "### Colunas `SibSp` e `Parch`"
   ]
  },
  {
   "cell_type": "markdown",
   "id": "84b5e6d0-c7d4-472c-89fb-1f5dd334c3a5",
   "metadata": {},
   "source": [
    "Essa duas colunas possuem informações sobre parentes de cada passageiro. Por isso, essas colunas serão resumidas em uma coluna que informa o total de familiares de cada passageiro."
   ]
  },
  {
   "cell_type": "code",
   "execution_count": 19,
   "id": "d00807b3-9c1f-4001-bf87-efe6b3e58b41",
   "metadata": {},
   "outputs": [
    {
     "data": {
      "text/html": [
       "<div>\n",
       "<style scoped>\n",
       "    .dataframe tbody tr th:only-of-type {\n",
       "        vertical-align: middle;\n",
       "    }\n",
       "\n",
       "    .dataframe tbody tr th {\n",
       "        vertical-align: top;\n",
       "    }\n",
       "\n",
       "    .dataframe thead th {\n",
       "        text-align: right;\n",
       "    }\n",
       "</style>\n",
       "<table border=\"1\" class=\"dataframe\">\n",
       "  <thead>\n",
       "    <tr style=\"text-align: right;\">\n",
       "      <th></th>\n",
       "      <th>Survived</th>\n",
       "      <th>Pclass</th>\n",
       "      <th>Name</th>\n",
       "      <th>Sex</th>\n",
       "      <th>Age</th>\n",
       "      <th>SibSp</th>\n",
       "      <th>Parch</th>\n",
       "      <th>Fare</th>\n",
       "      <th>Embarked</th>\n",
       "      <th>FamilyMembers</th>\n",
       "    </tr>\n",
       "  </thead>\n",
       "  <tbody>\n",
       "    <tr>\n",
       "      <th>0</th>\n",
       "      <td>0</td>\n",
       "      <td>3</td>\n",
       "      <td>Braund, Mr. Owen Harris</td>\n",
       "      <td>male</td>\n",
       "      <td>22.0</td>\n",
       "      <td>1</td>\n",
       "      <td>0</td>\n",
       "      <td>7.2500</td>\n",
       "      <td>S</td>\n",
       "      <td>1</td>\n",
       "    </tr>\n",
       "    <tr>\n",
       "      <th>1</th>\n",
       "      <td>1</td>\n",
       "      <td>1</td>\n",
       "      <td>Cumings, Mrs. John Bradley (Florence Briggs Th...</td>\n",
       "      <td>female</td>\n",
       "      <td>38.0</td>\n",
       "      <td>1</td>\n",
       "      <td>0</td>\n",
       "      <td>71.2833</td>\n",
       "      <td>C</td>\n",
       "      <td>1</td>\n",
       "    </tr>\n",
       "    <tr>\n",
       "      <th>2</th>\n",
       "      <td>1</td>\n",
       "      <td>3</td>\n",
       "      <td>Heikkinen, Miss. Laina</td>\n",
       "      <td>female</td>\n",
       "      <td>26.0</td>\n",
       "      <td>0</td>\n",
       "      <td>0</td>\n",
       "      <td>7.9250</td>\n",
       "      <td>S</td>\n",
       "      <td>0</td>\n",
       "    </tr>\n",
       "    <tr>\n",
       "      <th>3</th>\n",
       "      <td>1</td>\n",
       "      <td>1</td>\n",
       "      <td>Futrelle, Mrs. Jacques Heath (Lily May Peel)</td>\n",
       "      <td>female</td>\n",
       "      <td>35.0</td>\n",
       "      <td>1</td>\n",
       "      <td>0</td>\n",
       "      <td>53.1000</td>\n",
       "      <td>S</td>\n",
       "      <td>1</td>\n",
       "    </tr>\n",
       "    <tr>\n",
       "      <th>4</th>\n",
       "      <td>0</td>\n",
       "      <td>3</td>\n",
       "      <td>Allen, Mr. William Henry</td>\n",
       "      <td>male</td>\n",
       "      <td>35.0</td>\n",
       "      <td>0</td>\n",
       "      <td>0</td>\n",
       "      <td>8.0500</td>\n",
       "      <td>S</td>\n",
       "      <td>0</td>\n",
       "    </tr>\n",
       "  </tbody>\n",
       "</table>\n",
       "</div>"
      ]
     },
     "execution_count": 19,
     "metadata": {},
     "output_type": "execute_result"
    }
   ],
   "source": [
    "df['FamilyMembers'] = df['SibSp'] + df['Parch']\n",
    "df.head()"
   ]
  },
  {
   "cell_type": "markdown",
   "id": "ceac2dc5-ed57-42f1-9227-9fd945f85dbf",
   "metadata": {},
   "source": [
    "Após isso, podemos excluir as duas colunas de análises futuras."
   ]
  },
  {
   "cell_type": "code",
   "execution_count": 20,
   "id": "bf9f5aa1-f06c-4336-ba94-a674e957b189",
   "metadata": {},
   "outputs": [],
   "source": [
    "df = df.drop(columns = ['SibSp', 'Parch'])"
   ]
  },
  {
   "cell_type": "code",
   "execution_count": 21,
   "id": "d359e206-783d-4d37-aa4c-6037fa990de2",
   "metadata": {},
   "outputs": [
    {
     "data": {
      "text/html": [
       "<div>\n",
       "<style scoped>\n",
       "    .dataframe tbody tr th:only-of-type {\n",
       "        vertical-align: middle;\n",
       "    }\n",
       "\n",
       "    .dataframe tbody tr th {\n",
       "        vertical-align: top;\n",
       "    }\n",
       "\n",
       "    .dataframe thead th {\n",
       "        text-align: right;\n",
       "    }\n",
       "</style>\n",
       "<table border=\"1\" class=\"dataframe\">\n",
       "  <thead>\n",
       "    <tr style=\"text-align: right;\">\n",
       "      <th></th>\n",
       "      <th>Survived</th>\n",
       "      <th>Pclass</th>\n",
       "      <th>Name</th>\n",
       "      <th>Sex</th>\n",
       "      <th>Age</th>\n",
       "      <th>Fare</th>\n",
       "      <th>Embarked</th>\n",
       "      <th>FamilyMembers</th>\n",
       "    </tr>\n",
       "  </thead>\n",
       "  <tbody>\n",
       "    <tr>\n",
       "      <th>0</th>\n",
       "      <td>0</td>\n",
       "      <td>3</td>\n",
       "      <td>Braund, Mr. Owen Harris</td>\n",
       "      <td>male</td>\n",
       "      <td>22.0</td>\n",
       "      <td>7.2500</td>\n",
       "      <td>S</td>\n",
       "      <td>1</td>\n",
       "    </tr>\n",
       "    <tr>\n",
       "      <th>1</th>\n",
       "      <td>1</td>\n",
       "      <td>1</td>\n",
       "      <td>Cumings, Mrs. John Bradley (Florence Briggs Th...</td>\n",
       "      <td>female</td>\n",
       "      <td>38.0</td>\n",
       "      <td>71.2833</td>\n",
       "      <td>C</td>\n",
       "      <td>1</td>\n",
       "    </tr>\n",
       "    <tr>\n",
       "      <th>2</th>\n",
       "      <td>1</td>\n",
       "      <td>3</td>\n",
       "      <td>Heikkinen, Miss. Laina</td>\n",
       "      <td>female</td>\n",
       "      <td>26.0</td>\n",
       "      <td>7.9250</td>\n",
       "      <td>S</td>\n",
       "      <td>0</td>\n",
       "    </tr>\n",
       "    <tr>\n",
       "      <th>3</th>\n",
       "      <td>1</td>\n",
       "      <td>1</td>\n",
       "      <td>Futrelle, Mrs. Jacques Heath (Lily May Peel)</td>\n",
       "      <td>female</td>\n",
       "      <td>35.0</td>\n",
       "      <td>53.1000</td>\n",
       "      <td>S</td>\n",
       "      <td>1</td>\n",
       "    </tr>\n",
       "    <tr>\n",
       "      <th>4</th>\n",
       "      <td>0</td>\n",
       "      <td>3</td>\n",
       "      <td>Allen, Mr. William Henry</td>\n",
       "      <td>male</td>\n",
       "      <td>35.0</td>\n",
       "      <td>8.0500</td>\n",
       "      <td>S</td>\n",
       "      <td>0</td>\n",
       "    </tr>\n",
       "  </tbody>\n",
       "</table>\n",
       "</div>"
      ]
     },
     "execution_count": 21,
     "metadata": {},
     "output_type": "execute_result"
    }
   ],
   "source": [
    "df.head()"
   ]
  },
  {
   "cell_type": "markdown",
   "id": "7f4d024c-074b-4815-b9c7-a4643d3d325b",
   "metadata": {},
   "source": [
    "### Variáveis `Sex` e `Pclass`"
   ]
  },
  {
   "cell_type": "markdown",
   "id": "2e7a3e22-e175-4d74-b9c9-f1686a3b175c",
   "metadata": {},
   "source": [
    "Para essa variável, será necessário aplicar técnicas de encoding para tratar as informações. Podemos verificar como é a diferença de sobrevivencia entre os gêneros"
   ]
  },
  {
   "cell_type": "code",
   "execution_count": 24,
   "id": "ebacdb1f-d8af-4bd5-aa42-62a2c8057ce5",
   "metadata": {},
   "outputs": [
    {
     "data": {
      "image/png": "[encoded data removed]"
     },
     "metadata": {},
     "output_type": "display_data"
    }
   ],
   "source": [
    "import matplotlib.pyplot as plt\n",
    "import seaborn as sns\n",
    "\n",
    "\n",
    "sns.countplot(data = df, x = 'Sex', hue = 'Survived')"
   ]
  },
  {
   "cell_type": "markdown",
   "id": "a9e43608-42b2-4b9e-bb46-2966e2d79241",
   "metadata": {},
   "source": [
    "É possível perceber que mais mulheres sobreviveram que os homens. Isso pode ter diversos motivos."
   ]
  },
  {
   "cell_type": "code",
   "execution_count": 27,
   "id": "49f436f1-17a3-45e4-b93c-10cd8a157230",
   "metadata": {},
   "outputs": [
    {
     "data": {
      "image/png": "[encoded data removed]"
     },
     "metadata": {},
     "output_type": "display_data"
    }
   ],
   "source": [
    "import matplotlib.pyplot as plt\n",
    "import seaborn as sns\n",
    "\n",
    "\n",
    "sns.countplot(data = df, x = 'Pclass', hue = 'Survived')"
   ]
  },
  {
   "cell_type": "markdown",
   "id": "a0e69875-367c-495f-a7bf-e4ce23bbe6e1",
   "metadata": {},
   "source": [
    "Essa é outra variável categórica que apresenta um comportamento interessante para a variável target."
   ]
  },
  {
   "cell_type": "markdown",
   "id": "1becebd2-e4c0-4182-a25b-ce2b22aaa09a",
   "metadata": {},
   "source": [
    "### Coluna `Name`"
   ]
  },
  {
   "cell_type": "markdown",
   "id": "71c44e63-6d7c-4505-aebe-d379e22b43d4",
   "metadata": {},
   "source": [
    "A coluna Name possui informações únicas, porém é possível gerar novas features ao se analisar os títulos de cada passageiro. "
   ]
  },
  {
   "cell_type": "code",
   "execution_count": 72,
   "id": "fd270d8c-9491-463b-adc8-d70a8d38b5a0",
   "metadata": {},
   "outputs": [
    {
     "data": {
      "text/html": [
       "<pre style=\"white-space:pre;overflow-x:auto;line-height:normal;font-family:Menlo,'DejaVu Sans Mono',consolas,'Courier New',monospace\">\n",
       "<span style=\"color: #008080; text-decoration-color: #008080; font-weight: bold\">0</span>                                Braund, Mr. Owen Harris\n",
       "<span style=\"color: #008080; text-decoration-color: #008080; font-weight: bold\">1</span>      Cumings, Mrs. John Bradley <span style=\"font-weight: bold\">(</span>Florence Briggs Th<span style=\"color: #808000; text-decoration-color: #808000\">...</span>\n",
       "<span style=\"color: #008080; text-decoration-color: #008080; font-weight: bold\">2</span>                                 Heikkinen, Miss. Laina\n",
       "<span style=\"color: #008080; text-decoration-color: #008080; font-weight: bold\">3</span>           Futrelle, Mrs. Jacques Heath <span style=\"font-weight: bold\">(</span>Lily May Peel<span style=\"font-weight: bold\">)</span>\n",
       "<span style=\"color: #008080; text-decoration-color: #008080; font-weight: bold\">4</span>                               Allen, Mr. William Henry\n",
       "                             <span style=\"color: #808000; text-decoration-color: #808000\">...</span>                        \n",
       "<span style=\"color: #008080; text-decoration-color: #008080; font-weight: bold\">886</span>                                Montvila, Rev. Juozas\n",
       "<span style=\"color: #008080; text-decoration-color: #008080; font-weight: bold\">887</span>                         Graham, Miss. Margaret Edith\n",
       "<span style=\"color: #008080; text-decoration-color: #008080; font-weight: bold\">888</span>             Johnston, Miss. Catherine Helen <span style=\"color: #008000; text-decoration-color: #008000\">\"Carrie\"</span>\n",
       "<span style=\"color: #008080; text-decoration-color: #008080; font-weight: bold\">889</span>                                Behr, Mr. Karl Howell\n",
       "<span style=\"color: #008080; text-decoration-color: #008080; font-weight: bold\">890</span>                                  Dooley, Mr. Patrick\n",
       "Name: Name, Length: <span style=\"color: #008080; text-decoration-color: #008080; font-weight: bold\">891</span>, dtype: object\n",
       "</pre>\n"
      ],
      "text/plain": [
       "\n",
       "\u001b[1;36m0\u001b[0m                                Braund, Mr. Owen Harris\n",
       "\u001b[1;36m1\u001b[0m      Cumings, Mrs. John Bradley \u001b[1m(\u001b[0mFlorence Briggs Th\u001b[33m...\u001b[0m\n",
       "\u001b[1;36m2\u001b[0m                                 Heikkinen, Miss. Laina\n",
       "\u001b[1;36m3\u001b[0m           Futrelle, Mrs. Jacques Heath \u001b[1m(\u001b[0mLily May Peel\u001b[1m)\u001b[0m\n",
       "\u001b[1;36m4\u001b[0m                               Allen, Mr. William Henry\n",
       "                             \u001b[33m...\u001b[0m                        \n",
       "\u001b[1;36m886\u001b[0m                                Montvila, Rev. Juozas\n",
       "\u001b[1;36m887\u001b[0m                         Graham, Miss. Margaret Edith\n",
       "\u001b[1;36m888\u001b[0m             Johnston, Miss. Catherine Helen \u001b[32m\"Carrie\"\u001b[0m\n",
       "\u001b[1;36m889\u001b[0m                                Behr, Mr. Karl Howell\n",
       "\u001b[1;36m890\u001b[0m                                  Dooley, Mr. Patrick\n",
       "Name: Name, Length: \u001b[1;36m891\u001b[0m, dtype: object\n"
      ]
     },
     "metadata": {},
     "output_type": "display_data"
    }
   ],
   "source": [
    "df['Name']"
   ]
  },
  {
   "cell_type": "code",
   "execution_count": 85,
   "id": "415548ad-8a3a-44d9-90c3-2827324d1f7e",
   "metadata": {},
   "outputs": [
    {
     "data": {
      "text/html": [
       "<div>\n",
       "<style scoped>\n",
       "    .dataframe tbody tr th:only-of-type {\n",
       "        vertical-align: middle;\n",
       "    }\n",
       "\n",
       "    .dataframe tbody tr th {\n",
       "        vertical-align: top;\n",
       "    }\n",
       "\n",
       "    .dataframe thead th {\n",
       "        text-align: right;\n",
       "    }\n",
       "</style>\n",
       "<table border=\"1\" class=\"dataframe\">\n",
       "  <thead>\n",
       "    <tr style=\"text-align: right;\">\n",
       "      <th></th>\n",
       "      <th>Survived</th>\n",
       "      <th>Pclass</th>\n",
       "      <th>Name</th>\n",
       "      <th>Sex</th>\n",
       "      <th>Age</th>\n",
       "      <th>Fare</th>\n",
       "      <th>Embarked</th>\n",
       "      <th>FamilyMembers</th>\n",
       "      <th>titulo</th>\n",
       "      <th>Title</th>\n",
       "    </tr>\n",
       "  </thead>\n",
       "  <tbody>\n",
       "    <tr>\n",
       "      <th>0</th>\n",
       "      <td>0</td>\n",
       "      <td>3</td>\n",
       "      <td>Braund, Mr. Owen Harris</td>\n",
       "      <td>male</td>\n",
       "      <td>22.0</td>\n",
       "      <td>7.2500</td>\n",
       "      <td>S</td>\n",
       "      <td>1</td>\n",
       "      <td>Mr.</td>\n",
       "      <td>Mr.</td>\n",
       "    </tr>\n",
       "    <tr>\n",
       "      <th>1</th>\n",
       "      <td>1</td>\n",
       "      <td>1</td>\n",
       "      <td>Cumings, Mrs. John Bradley (Florence Briggs Th...</td>\n",
       "      <td>female</td>\n",
       "      <td>38.0</td>\n",
       "      <td>71.2833</td>\n",
       "      <td>C</td>\n",
       "      <td>1</td>\n",
       "      <td>Mrs.</td>\n",
       "      <td>Mrs.</td>\n",
       "    </tr>\n",
       "    <tr>\n",
       "      <th>2</th>\n",
       "      <td>1</td>\n",
       "      <td>3</td>\n",
       "      <td>Heikkinen, Miss. Laina</td>\n",
       "      <td>female</td>\n",
       "      <td>26.0</td>\n",
       "      <td>7.9250</td>\n",
       "      <td>S</td>\n",
       "      <td>0</td>\n",
       "      <td>Miss.</td>\n",
       "      <td>Miss.</td>\n",
       "    </tr>\n",
       "    <tr>\n",
       "      <th>3</th>\n",
       "      <td>1</td>\n",
       "      <td>1</td>\n",
       "      <td>Futrelle, Mrs. Jacques Heath (Lily May Peel)</td>\n",
       "      <td>female</td>\n",
       "      <td>35.0</td>\n",
       "      <td>53.1000</td>\n",
       "      <td>S</td>\n",
       "      <td>1</td>\n",
       "      <td>Mrs.</td>\n",
       "      <td>Mrs.</td>\n",
       "    </tr>\n",
       "    <tr>\n",
       "      <th>4</th>\n",
       "      <td>0</td>\n",
       "      <td>3</td>\n",
       "      <td>Allen, Mr. William Henry</td>\n",
       "      <td>male</td>\n",
       "      <td>35.0</td>\n",
       "      <td>8.0500</td>\n",
       "      <td>S</td>\n",
       "      <td>0</td>\n",
       "      <td>Mr.</td>\n",
       "      <td>Mr.</td>\n",
       "    </tr>\n",
       "  </tbody>\n",
       "</table>\n",
       "</div>"
      ]
     },
     "execution_count": 85,
     "metadata": {},
     "output_type": "execute_result"
    }
   ],
   "source": [
    "## Pega apenas o título de cada nome\n",
    "titulo_com_nome = df['Name'].str.split(pat = ', ').str[1]\n",
    "titulo_sem_nome = titulo_com_nome.str.split().str[0]\n",
    "df['Title'] = titulo_sem_nome\n",
    "df.head()"
   ]
  },
  {
   "cell_type": "markdown",
   "id": "58553bdc-b16d-4659-bcbc-da41e62866a9",
   "metadata": {},
   "source": [
    "Com a coluna sendo criada, pode-se comparar também a taxa de mortalidade entre os diferentes títulos"
   ]
  },
  {
   "cell_type": "code",
   "execution_count": 86,
   "id": "ff1a2e5f-4b3e-41bb-8b36-4b90cbee2e25",
   "metadata": {},
   "outputs": [
    {
     "data": {
      "image/png": "[encoded data removed]"
     },
     "metadata": {},
     "output_type": "display_data"
    }
   ],
   "source": [
    "import matplotlib.pyplot as plt\n",
    "import seaborn as sns\n",
    "\n",
    "\n",
    "sns.countplot(data = df, x = 'Title', hue = 'Survived')"
   ]
  },
  {
   "cell_type": "code",
   "execution_count": 87,
   "id": "044edc61-906d-4f92-a126-e2402e3329a7",
   "metadata": {},
   "outputs": [
    {
     "data": {
      "text/html": [
       "<pre style=\"white-space:pre;overflow-x:auto;line-height:normal;font-family:Menlo,'DejaVu Sans Mono',consolas,'Courier New',monospace\">\n",
       "<span style=\"color: #800080; text-decoration-color: #800080; font-weight: bold\">array</span><span style=\"font-weight: bold\">([</span><span style=\"color: #008000; text-decoration-color: #008000\">'Mr.'</span>, <span style=\"color: #008000; text-decoration-color: #008000\">'Mrs.'</span>, <span style=\"color: #008000; text-decoration-color: #008000\">'Miss.'</span>, <span style=\"color: #008000; text-decoration-color: #008000\">'Master.'</span>, <span style=\"color: #008000; text-decoration-color: #008000\">'Don.'</span>, <span style=\"color: #008000; text-decoration-color: #008000\">'Rev.'</span>, <span style=\"color: #008000; text-decoration-color: #008000\">'Dr.'</span>, <span style=\"color: #008000; text-decoration-color: #008000\">'Mme.'</span>,\n",
       "       <span style=\"color: #008000; text-decoration-color: #008000\">'Ms.'</span>, <span style=\"color: #008000; text-decoration-color: #008000\">'Major.'</span>, <span style=\"color: #008000; text-decoration-color: #008000\">'Lady.'</span>, <span style=\"color: #008000; text-decoration-color: #008000\">'Sir.'</span>, <span style=\"color: #008000; text-decoration-color: #008000\">'Mlle.'</span>, <span style=\"color: #008000; text-decoration-color: #008000\">'Col.'</span>, <span style=\"color: #008000; text-decoration-color: #008000\">'Capt.'</span>, <span style=\"color: #008000; text-decoration-color: #008000\">'the'</span>,\n",
       "       <span style=\"color: #008000; text-decoration-color: #008000\">'Jonkheer.'</span><span style=\"font-weight: bold\">]</span>, <span style=\"color: #808000; text-decoration-color: #808000\">dtype</span>=<span style=\"color: #800080; text-decoration-color: #800080\">object</span><span style=\"font-weight: bold\">)</span>\n",
       "</pre>\n"
      ],
      "text/plain": [
       "\n",
       "\u001b[1;35marray\u001b[0m\u001b[1m(\u001b[0m\u001b[1m[\u001b[0m\u001b[32m'Mr.'\u001b[0m, \u001b[32m'Mrs.'\u001b[0m, \u001b[32m'Miss.'\u001b[0m, \u001b[32m'Master.'\u001b[0m, \u001b[32m'Don.'\u001b[0m, \u001b[32m'Rev.'\u001b[0m, \u001b[32m'Dr.'\u001b[0m, \u001b[32m'Mme.'\u001b[0m,\n",
       "       \u001b[32m'Ms.'\u001b[0m, \u001b[32m'Major.'\u001b[0m, \u001b[32m'Lady.'\u001b[0m, \u001b[32m'Sir.'\u001b[0m, \u001b[32m'Mlle.'\u001b[0m, \u001b[32m'Col.'\u001b[0m, \u001b[32m'Capt.'\u001b[0m, \u001b[32m'the'\u001b[0m,\n",
       "       \u001b[32m'Jonkheer.'\u001b[0m\u001b[1m]\u001b[0m, \u001b[33mdtype\u001b[0m=\u001b[35mobject\u001b[0m\u001b[1m)\u001b[0m\n"
      ]
     },
     "metadata": {},
     "output_type": "display_data"
    }
   ],
   "source": [
    "df['Title'].unique()"
   ]
  },
  {
   "cell_type": "markdown",
   "id": "370955dd-7b15-4519-b03c-4f0a464b6c39",
   "metadata": {},
   "source": [
    "As tentativas feitas não obtiveram sucesso. Apesar da possibilidade de agrupar, alguns títulos aparecem muito pouco. Além disso, os títulos também possuem ligação com o sexo do passageiro, o que poderia gerar comportamento indesejado do sistema. Por conta disso, essa coluna será removida das análises futuras."
   ]
  },
  {
   "cell_type": "code",
   "execution_count": 88,
   "id": "3b7cd465-8183-44d4-877f-4f7445b61e3b",
   "metadata": {},
   "outputs": [],
   "source": [
    "colunas = ['titulo', 'Title', 'Name']\n",
    "\n",
    "df = df.drop(columns = colunas)"
   ]
  },
  {
   "cell_type": "code",
   "execution_count": 89,
   "id": "255d28af-221c-497f-8949-742cfc4c9148",
   "metadata": {},
   "outputs": [
    {
     "data": {
      "text/html": [
       "<div>\n",
       "<style scoped>\n",
       "    .dataframe tbody tr th:only-of-type {\n",
       "        vertical-align: middle;\n",
       "    }\n",
       "\n",
       "    .dataframe tbody tr th {\n",
       "        vertical-align: top;\n",
       "    }\n",
       "\n",
       "    .dataframe thead th {\n",
       "        text-align: right;\n",
       "    }\n",
       "</style>\n",
       "<table border=\"1\" class=\"dataframe\">\n",
       "  <thead>\n",
       "    <tr style=\"text-align: right;\">\n",
       "      <th></th>\n",
       "      <th>Survived</th>\n",
       "      <th>Pclass</th>\n",
       "      <th>Sex</th>\n",
       "      <th>Age</th>\n",
       "      <th>Fare</th>\n",
       "      <th>Embarked</th>\n",
       "      <th>FamilyMembers</th>\n",
       "    </tr>\n",
       "  </thead>\n",
       "  <tbody>\n",
       "    <tr>\n",
       "      <th>0</th>\n",
       "      <td>0</td>\n",
       "      <td>3</td>\n",
       "      <td>male</td>\n",
       "      <td>22.0</td>\n",
       "      <td>7.2500</td>\n",
       "      <td>S</td>\n",
       "      <td>1</td>\n",
       "    </tr>\n",
       "    <tr>\n",
       "      <th>1</th>\n",
       "      <td>1</td>\n",
       "      <td>1</td>\n",
       "      <td>female</td>\n",
       "      <td>38.0</td>\n",
       "      <td>71.2833</td>\n",
       "      <td>C</td>\n",
       "      <td>1</td>\n",
       "    </tr>\n",
       "    <tr>\n",
       "      <th>2</th>\n",
       "      <td>1</td>\n",
       "      <td>3</td>\n",
       "      <td>female</td>\n",
       "      <td>26.0</td>\n",
       "      <td>7.9250</td>\n",
       "      <td>S</td>\n",
       "      <td>0</td>\n",
       "    </tr>\n",
       "    <tr>\n",
       "      <th>3</th>\n",
       "      <td>1</td>\n",
       "      <td>1</td>\n",
       "      <td>female</td>\n",
       "      <td>35.0</td>\n",
       "      <td>53.1000</td>\n",
       "      <td>S</td>\n",
       "      <td>1</td>\n",
       "    </tr>\n",
       "    <tr>\n",
       "      <th>4</th>\n",
       "      <td>0</td>\n",
       "      <td>3</td>\n",
       "      <td>male</td>\n",
       "      <td>35.0</td>\n",
       "      <td>8.0500</td>\n",
       "      <td>S</td>\n",
       "      <td>0</td>\n",
       "    </tr>\n",
       "  </tbody>\n",
       "</table>\n",
       "</div>"
      ]
     },
     "execution_count": 89,
     "metadata": {},
     "output_type": "execute_result"
    }
   ],
   "source": [
    "df.head()"
   ]
  },
  {
   "cell_type": "markdown",
   "id": "47bfd99e-486c-441a-be81-16888d4167df",
   "metadata": {},
   "source": [
    "Com essa EDA, o número de variáveis caiu de 9 para 6. Isso é ruim por conta disso e bom por conta daquilo."
   ]
  },
  {
   "cell_type": "code",
   "execution_count": null,
   "id": "842926a6-3250-4dd4-8434-a7f23785df4e",
   "metadata": {},
   "outputs": [],
   "source": []
  }
 ],
 "metadata": {
  "kernelspec": {
   "display_name": "Kedro (titanic_classification)",
   "language": "python",
   "name": "kedro_titanic_classification"
  },
  "language_info": {
   "codemirror_mode": {
    "name": "ipython",
    "version": 3
   },
   "file_extension": ".py",
   "mimetype": "text/x-python",
   "name": "python",
   "nbconvert_exporter": "python",
   "pygments_lexer": "ipython3",
   "version": "3.8.10"
  }
 },
 "nbformat": 4,
 "nbformat_minor": 5
}
